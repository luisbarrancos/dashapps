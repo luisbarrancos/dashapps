{
 "cells": [
  {
   "cell_type": "code",
   "execution_count": 2,
   "id": "2919a894-171b-46d8-8a7a-6819b2fedddf",
   "metadata": {},
   "outputs": [],
   "source": [
    "import pandas as pd\n",
    "\n",
    "import os"
   ]
  },
  {
   "cell_type": "code",
   "execution_count": 4,
   "id": "5aace0ac-27b2-4392-95f6-0ae7a8381404",
   "metadata": {},
   "outputs": [],
   "source": [
    "df = pd.read_sql(\"Deadline_database\", \"sqlite:///\" + os.path.join(os.getcwd(), \"deadline_database_nonans2.db\"))"
   ]
  },
  {
   "cell_type": "code",
   "execution_count": 7,
   "id": "42260340-c6d7-4a71-a85c-cc2cf45fb18e",
   "metadata": {},
   "outputs": [
    {
     "data": {
      "text/html": [
       "<div>\n",
       "<style scoped>\n",
       "    .dataframe tbody tr th:only-of-type {\n",
       "        vertical-align: middle;\n",
       "    }\n",
       "\n",
       "    .dataframe tbody tr th {\n",
       "        vertical-align: top;\n",
       "    }\n",
       "\n",
       "    .dataframe thead th {\n",
       "        text-align: right;\n",
       "    }\n",
       "</style>\n",
       "<table border=\"1\" class=\"dataframe\">\n",
       "  <thead>\n",
       "    <tr style=\"text-align: right;\">\n",
       "      <th></th>\n",
       "      <th>Country</th>\n",
       "      <th>Year</th>\n",
       "      <th>Continent</th>\n",
       "      <th>Deaths_meningitis</th>\n",
       "      <th>Deaths_lower_respiratory_infections</th>\n",
       "      <th>Deaths_intestinal_infectious_diseases</th>\n",
       "      <th>Deaths_protein_energy_malnutrition</th>\n",
       "      <th>Terrorism</th>\n",
       "      <th>Deaths_cardiovascular_diseases</th>\n",
       "      <th>Deaths_alzheimer_disease_and_other_dementias</th>\n",
       "      <th>...</th>\n",
       "      <th>Life_satisfaction</th>\n",
       "      <th>Life_expectancy</th>\n",
       "      <th>Life_expectancy_at_birth</th>\n",
       "      <th>Share_of_population_below_poverty_line_2USD_per_day</th>\n",
       "      <th>Total_life_expectancy_at_birth_in_years</th>\n",
       "      <th>Total_population</th>\n",
       "      <th>Human_development_index</th>\n",
       "      <th>Mortality_rate_under_5_per_1000_live_births</th>\n",
       "      <th>Suicidy_mortality_rate_per_100000_population</th>\n",
       "      <th>Annual_CO2_emissions</th>\n",
       "    </tr>\n",
       "  </thead>\n",
       "  <tbody>\n",
       "    <tr>\n",
       "      <th>1515</th>\n",
       "      <td>Zimbabwe</td>\n",
       "      <td>2013</td>\n",
       "      <td>Africa</td>\n",
       "      <td>1820.090331</td>\n",
       "      <td>13108.151347</td>\n",
       "      <td>25.015658</td>\n",
       "      <td>3507.171892</td>\n",
       "      <td>1.0</td>\n",
       "      <td>16900.858090</td>\n",
       "      <td>1190.558139</td>\n",
       "      <td>...</td>\n",
       "      <td>4.690</td>\n",
       "      <td>56.897</td>\n",
       "      <td>56.897</td>\n",
       "      <td>22.47359</td>\n",
       "      <td>56.897</td>\n",
       "      <td>13350378.0</td>\n",
       "      <td>0.516</td>\n",
       "      <td>6.78</td>\n",
       "      <td>18.6</td>\n",
       "      <td>11836254.0</td>\n",
       "    </tr>\n",
       "    <tr>\n",
       "      <th>1516</th>\n",
       "      <td>Zimbabwe</td>\n",
       "      <td>2014</td>\n",
       "      <td>Africa</td>\n",
       "      <td>1769.993458</td>\n",
       "      <td>12841.510671</td>\n",
       "      <td>25.623337</td>\n",
       "      <td>3380.319464</td>\n",
       "      <td>0.0</td>\n",
       "      <td>16755.843066</td>\n",
       "      <td>1191.914868</td>\n",
       "      <td>...</td>\n",
       "      <td>4.184</td>\n",
       "      <td>58.410</td>\n",
       "      <td>58.410</td>\n",
       "      <td>25.46218</td>\n",
       "      <td>58.410</td>\n",
       "      <td>13586710.0</td>\n",
       "      <td>0.525</td>\n",
       "      <td>6.44</td>\n",
       "      <td>18.2</td>\n",
       "      <td>11905687.0</td>\n",
       "    </tr>\n",
       "    <tr>\n",
       "      <th>1517</th>\n",
       "      <td>Zimbabwe</td>\n",
       "      <td>2015</td>\n",
       "      <td>Africa</td>\n",
       "      <td>1728.691503</td>\n",
       "      <td>12637.728613</td>\n",
       "      <td>25.415872</td>\n",
       "      <td>3263.941226</td>\n",
       "      <td>0.0</td>\n",
       "      <td>16691.109079</td>\n",
       "      <td>1201.436860</td>\n",
       "      <td>...</td>\n",
       "      <td>3.703</td>\n",
       "      <td>59.534</td>\n",
       "      <td>59.534</td>\n",
       "      <td>28.67193</td>\n",
       "      <td>59.534</td>\n",
       "      <td>13814642.0</td>\n",
       "      <td>0.529</td>\n",
       "      <td>6.20</td>\n",
       "      <td>18.0</td>\n",
       "      <td>12225821.0</td>\n",
       "    </tr>\n",
       "    <tr>\n",
       "      <th>1518</th>\n",
       "      <td>Zimbabwe</td>\n",
       "      <td>2016</td>\n",
       "      <td>Africa</td>\n",
       "      <td>1703.437894</td>\n",
       "      <td>12495.147292</td>\n",
       "      <td>25.752116</td>\n",
       "      <td>3188.723249</td>\n",
       "      <td>0.0</td>\n",
       "      <td>16781.946571</td>\n",
       "      <td>1223.666312</td>\n",
       "      <td>...</td>\n",
       "      <td>3.735</td>\n",
       "      <td>60.294</td>\n",
       "      <td>60.294</td>\n",
       "      <td>32.36664</td>\n",
       "      <td>60.294</td>\n",
       "      <td>14030338.0</td>\n",
       "      <td>0.532</td>\n",
       "      <td>5.95</td>\n",
       "      <td>16.8</td>\n",
       "      <td>10737567.0</td>\n",
       "    </tr>\n",
       "    <tr>\n",
       "      <th>1519</th>\n",
       "      <td>Zimbabwe</td>\n",
       "      <td>2017</td>\n",
       "      <td>Africa</td>\n",
       "      <td>1677.007331</td>\n",
       "      <td>12369.654705</td>\n",
       "      <td>0.000000</td>\n",
       "      <td>3111.873502</td>\n",
       "      <td>0.0</td>\n",
       "      <td>16976.902369</td>\n",
       "      <td>1246.101126</td>\n",
       "      <td>...</td>\n",
       "      <td>3.638</td>\n",
       "      <td>60.812</td>\n",
       "      <td>60.812</td>\n",
       "      <td>33.86269</td>\n",
       "      <td>60.812</td>\n",
       "      <td>14236599.0</td>\n",
       "      <td>0.535</td>\n",
       "      <td>5.82</td>\n",
       "      <td>15.0</td>\n",
       "      <td>9581633.0</td>\n",
       "    </tr>\n",
       "  </tbody>\n",
       "</table>\n",
       "<p>5 rows × 47 columns</p>\n",
       "</div>"
      ],
      "text/plain": [
       "       Country  Year Continent  Deaths_meningitis  \\\n",
       "1515  Zimbabwe  2013    Africa        1820.090331   \n",
       "1516  Zimbabwe  2014    Africa        1769.993458   \n",
       "1517  Zimbabwe  2015    Africa        1728.691503   \n",
       "1518  Zimbabwe  2016    Africa        1703.437894   \n",
       "1519  Zimbabwe  2017    Africa        1677.007331   \n",
       "\n",
       "      Deaths_lower_respiratory_infections  \\\n",
       "1515                         13108.151347   \n",
       "1516                         12841.510671   \n",
       "1517                         12637.728613   \n",
       "1518                         12495.147292   \n",
       "1519                         12369.654705   \n",
       "\n",
       "      Deaths_intestinal_infectious_diseases  \\\n",
       "1515                              25.015658   \n",
       "1516                              25.623337   \n",
       "1517                              25.415872   \n",
       "1518                              25.752116   \n",
       "1519                               0.000000   \n",
       "\n",
       "      Deaths_protein_energy_malnutrition  Terrorism  \\\n",
       "1515                         3507.171892        1.0   \n",
       "1516                         3380.319464        0.0   \n",
       "1517                         3263.941226        0.0   \n",
       "1518                         3188.723249        0.0   \n",
       "1519                         3111.873502        0.0   \n",
       "\n",
       "      Deaths_cardiovascular_diseases  \\\n",
       "1515                    16900.858090   \n",
       "1516                    16755.843066   \n",
       "1517                    16691.109079   \n",
       "1518                    16781.946571   \n",
       "1519                    16976.902369   \n",
       "\n",
       "      Deaths_alzheimer_disease_and_other_dementias  ...  Life_satisfaction  \\\n",
       "1515                                   1190.558139  ...              4.690   \n",
       "1516                                   1191.914868  ...              4.184   \n",
       "1517                                   1201.436860  ...              3.703   \n",
       "1518                                   1223.666312  ...              3.735   \n",
       "1519                                   1246.101126  ...              3.638   \n",
       "\n",
       "      Life_expectancy  Life_expectancy_at_birth  \\\n",
       "1515           56.897                    56.897   \n",
       "1516           58.410                    58.410   \n",
       "1517           59.534                    59.534   \n",
       "1518           60.294                    60.294   \n",
       "1519           60.812                    60.812   \n",
       "\n",
       "      Share_of_population_below_poverty_line_2USD_per_day  \\\n",
       "1515                                           22.47359     \n",
       "1516                                           25.46218     \n",
       "1517                                           28.67193     \n",
       "1518                                           32.36664     \n",
       "1519                                           33.86269     \n",
       "\n",
       "      Total_life_expectancy_at_birth_in_years  Total_population  \\\n",
       "1515                                   56.897        13350378.0   \n",
       "1516                                   58.410        13586710.0   \n",
       "1517                                   59.534        13814642.0   \n",
       "1518                                   60.294        14030338.0   \n",
       "1519                                   60.812        14236599.0   \n",
       "\n",
       "      Human_development_index  Mortality_rate_under_5_per_1000_live_births  \\\n",
       "1515                    0.516                                         6.78   \n",
       "1516                    0.525                                         6.44   \n",
       "1517                    0.529                                         6.20   \n",
       "1518                    0.532                                         5.95   \n",
       "1519                    0.535                                         5.82   \n",
       "\n",
       "      Suicidy_mortality_rate_per_100000_population  Annual_CO2_emissions  \n",
       "1515                                          18.6            11836254.0  \n",
       "1516                                          18.2            11905687.0  \n",
       "1517                                          18.0            12225821.0  \n",
       "1518                                          16.8            10737567.0  \n",
       "1519                                          15.0             9581633.0  \n",
       "\n",
       "[5 rows x 47 columns]"
      ]
     },
     "execution_count": 7,
     "metadata": {},
     "output_type": "execute_result"
    }
   ],
   "source": [
    "df.tail()"
   ]
  },
  {
   "cell_type": "code",
   "execution_count": 10,
   "id": "d8fc473f-7f6c-430c-839c-e0ff033024fe",
   "metadata": {},
   "outputs": [],
   "source": [
    "le = df[df[\"Country\"]==\"Portugal\"]"
   ]
  },
  {
   "cell_type": "code",
   "execution_count": 12,
   "id": "ad15408e-bbb3-4727-9400-85d4a3b2b5e3",
   "metadata": {},
   "outputs": [],
   "source": [
    "from sklearn.model_selection import train_test_split\n",
    "from sklearn.linear_model import LinearRegression"
   ]
  },
  {
   "cell_type": "code",
   "execution_count": 13,
   "id": "a0b4ee29-a95b-49d8-81c1-4d5930268ddf",
   "metadata": {},
   "outputs": [],
   "source": [
    "target = le[\"Life_expectancy\"]"
   ]
  },
  {
   "cell_type": "code",
   "execution_count": 14,
   "id": "d386c5f9-c428-470c-b84b-26cdfeebb48e",
   "metadata": {},
   "outputs": [],
   "source": [
    "features = le[le.columns.difference([\"Life_expectancy\", \"Year\"])]"
   ]
  },
  {
   "cell_type": "code",
   "execution_count": 15,
   "id": "ded6248e-9667-4393-acea-d4a7adfb3e95",
   "metadata": {},
   "outputs": [],
   "source": [
    "x_train, x_test, y_train, y_test = train_test_split(pd.get_dummies(features), target, test_size=0.3)"
   ]
  },
  {
   "cell_type": "code",
   "execution_count": 16,
   "id": "5a763d4d-1998-453a-946e-f33cc5b0dfbe",
   "metadata": {},
   "outputs": [],
   "source": [
    "lr = LinearRegression()"
   ]
  },
  {
   "cell_type": "code",
   "execution_count": 17,
   "id": "413290d6-5636-4d64-9487-bcad50e01eba",
   "metadata": {},
   "outputs": [
    {
     "name": "stderr",
     "output_type": "stream",
     "text": [
      "/home/cgwork/OSS/pywork/venvs/lifedata/lib/python3.8/site-packages/sklearn/utils/validation.py:1675: FutureWarning: Feature names only support names that are all strings. Got feature names with dtypes: ['quoted_name', 'str']. An error will be raised in 1.2.\n",
      "  warnings.warn(\n"
     ]
    },
    {
     "data": {
      "text/plain": [
       "LinearRegression()"
      ]
     },
     "execution_count": 17,
     "metadata": {},
     "output_type": "execute_result"
    }
   ],
   "source": [
    "lr.fit(x_train, y_train)"
   ]
  },
  {
   "cell_type": "code",
   "execution_count": 19,
   "id": "6ede4a4d-5c3b-4d51-bc35-3a059e30c7e2",
   "metadata": {},
   "outputs": [
    {
     "name": "stderr",
     "output_type": "stream",
     "text": [
      "/home/cgwork/OSS/pywork/venvs/lifedata/lib/python3.8/site-packages/sklearn/utils/validation.py:1675: FutureWarning: Feature names only support names that are all strings. Got feature names with dtypes: ['quoted_name', 'str']. An error will be raised in 1.2.\n",
      "  warnings.warn(\n"
     ]
    }
   ],
   "source": [
    "lr_confidence = lr.score(x_test, y_test)"
   ]
  },
  {
   "cell_type": "code",
   "execution_count": 20,
   "id": "a264d40a-1f2d-4015-85e1-908e40cc0ca9",
   "metadata": {},
   "outputs": [
    {
     "name": "stdout",
     "output_type": "stream",
     "text": [
      "lr confidence:  0.998738430597938\n"
     ]
    }
   ],
   "source": [
    "print(\"lr confidence: \", lr_confidence)"
   ]
  },
  {
   "cell_type": "markdown",
   "id": "396e62b5-244d-4531-8a1b-2784f832420d",
   "metadata": {},
   "source": [
    "### very close to 1"
   ]
  },
  {
   "cell_type": "code",
   "execution_count": 21,
   "id": "4ced43c3-74ae-4235-8104-2314047c725c",
   "metadata": {},
   "outputs": [
    {
     "data": {
      "text/plain": [
       "2017"
      ]
     },
     "execution_count": 21,
     "metadata": {},
     "output_type": "execute_result"
    }
   ],
   "source": [
    "le[\"Year\"].max()"
   ]
  },
  {
   "cell_type": "code",
   "execution_count": 41,
   "id": "e2a5b022-dea7-4e83-ab62-32eb0d84bccd",
   "metadata": {},
   "outputs": [
    {
     "data": {
      "text/plain": [
       "81.655"
      ]
     },
     "execution_count": 41,
     "metadata": {},
     "output_type": "execute_result"
    }
   ],
   "source": [
    "le[le[\"Year\"]==le[\"Year\"].max()][\"Life_expectancy\"].values[0]"
   ]
  },
  {
   "cell_type": "code",
   "execution_count": 42,
   "id": "d6c9b976-15c2-47b4-9e50-5b152622674e",
   "metadata": {},
   "outputs": [],
   "source": [
    "from datetime import datetime"
   ]
  },
  {
   "cell_type": "code",
   "execution_count": 43,
   "id": "dfb2aca8-9c44-48ce-833d-a57f2f371105",
   "metadata": {},
   "outputs": [],
   "source": [
    "event_date = datetime(year=2022, month=5, day=12, hour=8)"
   ]
  },
  {
   "cell_type": "code",
   "execution_count": 44,
   "id": "0f7814e9-20ea-44b7-a780-d804011f1776",
   "metadata": {},
   "outputs": [],
   "source": [
    "countdown = event_date - datetime.now()"
   ]
  },
  {
   "cell_type": "code",
   "execution_count": 45,
   "id": "71ad641d-4a77-44ca-96ec-3dd0669547d4",
   "metadata": {},
   "outputs": [
    {
     "name": "stdout",
     "output_type": "stream",
     "text": [
      "155 days, 9:33:43.102749\n"
     ]
    }
   ],
   "source": [
    "print(countdown)"
   ]
  },
  {
   "cell_type": "code",
   "execution_count": null,
   "id": "f08b6cbf-1c92-4a0d-80a4-d6b367dccb37",
   "metadata": {},
   "outputs": [],
   "source": []
  }
 ],
 "metadata": {
  "kernelspec": {
   "display_name": "Python 3 (ipykernel)",
   "language": "python",
   "name": "python3"
  },
  "language_info": {
   "codemirror_mode": {
    "name": "ipython",
    "version": 3
   },
   "file_extension": ".py",
   "mimetype": "text/x-python",
   "name": "python",
   "nbconvert_exporter": "python",
   "pygments_lexer": "ipython3",
   "version": "3.8.10"
  }
 },
 "nbformat": 4,
 "nbformat_minor": 5
}
