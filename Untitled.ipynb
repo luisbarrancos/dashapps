{
 "cells": [
  {
   "cell_type": "markdown",
   "id": "4b47e67e-a8d6-4dbd-8bbf-dcb207574f82",
   "metadata": {},
   "source": [
    "## User input\n",
    "\n",
    "Data fields for pandas dataframe:\n",
    "```Username, Age, Sex, Place of Birth, Place of Residence, Vegetarian? Drives a Car? Smokes?```\n"
   ]
  },
  {
   "cell_type": "code",
   "execution_count": 1,
   "id": "d9dd5f2c-b6f8-4bd2-b605-d40777690f6b",
   "metadata": {},
   "outputs": [],
   "source": [
    "import pandas as pd"
   ]
  },
  {
   "cell_type": "code",
   "execution_count": 4,
   "id": "7fe80a82-a14a-4b49-86b9-f5a2edfb9568",
   "metadata": {},
   "outputs": [],
   "source": [
    "userdf = pd.DataFrame()"
   ]
  },
  {
   "cell_type": "code",
   "execution_count": 5,
   "id": "85b23a35-107c-41e2-8b60-54735a73c9e6",
   "metadata": {},
   "outputs": [],
   "source": [
    "def input_string(data):\n",
    "    if data.isalpha()"
   ]
  },
  {
   "cell_type": "code",
   "execution_count": 5,
   "id": "cce24a21-95d1-4429-8401-008ca7e2f58e",
   "metadata": {},
   "outputs": [
    {
     "name": "stdout",
     "output_type": "stream",
     "text": [
      "Please fill-in your data\n",
      "\n"
     ]
    }
   ],
   "source": [
    "print(\"Please fill-in your data\\n\")"
   ]
  },
  {
   "cell_type": "code",
   "execution_count": null,
   "id": "7d1c5d43-9776-40b3-959c-32edef0ff5cc",
   "metadata": {},
   "outputs": [],
   "source": []
  }
 ],
 "metadata": {
  "kernelspec": {
   "display_name": "Python 3 (ipykernel)",
   "language": "python",
   "name": "python3"
  },
  "language_info": {
   "codemirror_mode": {
    "name": "ipython",
    "version": 3
   },
   "file_extension": ".py",
   "mimetype": "text/x-python",
   "name": "python",
   "nbconvert_exporter": "python",
   "pygments_lexer": "ipython3",
   "version": "3.8.10"
  }
 },
 "nbformat": 4,
 "nbformat_minor": 5
}
