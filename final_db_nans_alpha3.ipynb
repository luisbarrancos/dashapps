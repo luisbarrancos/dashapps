{
 "cells": [
  {
   "cell_type": "markdown",
   "id": "d1dea6a6-b362-47ad-8b1b-a8c0cc3d5c34",
   "metadata": {
    "tags": []
   },
   "source": [
    "### Create a SQL DB from a series of processed CSV files via SQLAlchemy.\n",
    "\n",
    "The processed CSV files were imported from the WHO, UN, OECD, World Bank, loaded, processed and exported via Pandas\n"
   ]
  },
  {
   "cell_type": "code",
   "execution_count": 1,
   "id": "c8af5666-5231-4640-81a9-5d55f238f3c2",
   "metadata": {},
   "outputs": [],
   "source": [
    "import os\n",
    "import pandas as pd\n",
    "import numpy as np\n",
    "import matplotlib.pyplot as plt"
   ]
  },
  {
   "cell_type": "markdown",
   "id": "6a555379-205b-4d58-9a8a-19562165091a",
   "metadata": {},
   "source": [
    "Create a list (array) with the names of the CSV files from the processed data location"
   ]
  },
  {
   "cell_type": "code",
   "execution_count": 2,
   "id": "c9ebf6a7-85e1-48d6-b4c0-050f843b75ed",
   "metadata": {},
   "outputs": [],
   "source": [
    "datapath = os.path.join(os.getcwd(), \"data2\")\n",
    "\n",
    "if os.path.isdir(datapath):\n",
    "    datafiles = [f for f in os.listdir(datapath) if os.path.isfile(os.path.join(datapath, f))]"
   ]
  },
  {
   "cell_type": "markdown",
   "id": "0d8d8e1c-1931-49df-bb64-b8c5a13a0e51",
   "metadata": {},
   "source": [
    "For these files, split the extension, capitalize and append them to a dictionary which will contain as key the name minus extension and as value the Pandas DataFrame"
   ]
  },
  {
   "cell_type": "code",
   "execution_count": 3,
   "id": "5b0ca4eb-f86b-4525-b307-8a872066fd4b",
   "metadata": {},
   "outputs": [],
   "source": [
    "datadict = dict()\n",
    "\n",
    "for f in datafiles:\n",
    "    #print(f)\n",
    "    datadict[((f.rsplit(\".\", 1)[0]).capitalize())] = pd.read_csv(os.path.join(datapath, f))#, index_col = \"Country\")"
   ]
  },
  {
   "cell_type": "code",
   "execution_count": 4,
   "id": "25bccfd3-7a49-4316-9603-ddd4b08292b8",
   "metadata": {},
   "outputs": [
    {
     "name": "stdout",
     "output_type": "stream",
     "text": [
      "Anual_number_of_deaths_by_cause\n",
      "Life_satisfaction_in_cantril_ladder_world_happiness_report_2021\n",
      "Life_expectancy\n",
      "Life_expectancy_at_birth\n",
      "Extreme_poverty_headcount_ratio_vs_life_expectancy_at_birth\n",
      "Human_development_index\n",
      "Mortality_rate_under_5_per_1000_live_births\n",
      "Suicide_mortality_rate_per_100000_population\n",
      "Annual_co2_emissions\n",
      "Average_total_years_of_schooling_for_adult_population\n"
     ]
    }
   ],
   "source": [
    "for key, val in datadict.items():\n",
    "    print(key)"
   ]
  },
  {
   "cell_type": "code",
   "execution_count": 37,
   "id": "b50141a6-b8c3-4fb4-9aff-924efa9d014f",
   "metadata": {},
   "outputs": [],
   "source": [
    "# find for each DB, the unique country/index entries\n",
    "# which we convert to lists and then sets to find the\n",
    "# intersection of the lists/sets\n",
    "\n",
    "uniqndx = []\n",
    "\n",
    "for key, val in datadict.items():\n",
    "    uniqndx.append(list(datadict[key][\"Country\"].unique()))"
   ]
  },
  {
   "cell_type": "code",
   "execution_count": 38,
   "id": "b056f3d8-ec56-455d-807d-13f955c55eb0",
   "metadata": {},
   "outputs": [],
   "source": [
    "#inter = [i for i in uniqndx[0]]\n",
    "countrylist = []\n",
    "\n",
    "for i, val in enumerate(uniqndx):\n",
    "    countrylist = list(set(countrylist).intersection(set(uniqndx[i]))) \\\n",
    "        if i != 0 else [i for i in uniqndx[0]]"
   ]
  },
  {
   "cell_type": "code",
   "execution_count": 7,
   "id": "8f0277e6-e923-411d-862b-98580b1835a6",
   "metadata": {},
   "outputs": [
    {
     "name": "stdout",
     "output_type": "stream",
     "text": [
      "Anual_number_of_deaths_by_cause\n",
      "Life_satisfaction_in_cantril_ladder_world_happiness_report_2021\n",
      "Life_expectancy\n",
      "Life_expectancy_at_birth\n",
      "Extreme_poverty_headcount_ratio_vs_life_expectancy_at_birth\n",
      "Human_development_index\n",
      "Mortality_rate_under_5_per_1000_live_births\n",
      "Suicide_mortality_rate_per_100000_population\n",
      "Annual_co2_emissions\n",
      "Average_total_years_of_schooling_for_adult_population\n"
     ]
    }
   ],
   "source": [
    "for key, val in datadict.items():\n",
    "    print(key)"
   ]
  },
  {
   "cell_type": "code",
   "execution_count": 9,
   "id": "b0a2f896-2eec-4991-8370-8376075447ac",
   "metadata": {},
   "outputs": [],
   "source": [
    "df = pd.DataFrame()"
   ]
  },
  {
   "cell_type": "markdown",
   "id": "a27b1fd0-7c51-4d56-bb37-ae40263be69b",
   "metadata": {},
   "source": [
    "### Check for NaNs\n",
    "\n",
    "we're going to have NaNs since multiple dataframes span different time ranges. Since we do an union of the dataframes we're guaranteed to have some fields/columns without data depending on the year.\n",
    "If there are any *Code* fields left with NaN, fill to *NUL*. For everything else fill them with 0.\n"
   ]
  },
  {
   "cell_type": "code",
   "execution_count": 10,
   "id": "875b88d5-294a-4486-afb3-712bef1d9b77",
   "metadata": {},
   "outputs": [
    {
     "name": "stdout",
     "output_type": "stream",
     "text": [
      "Anual_number_of_deaths_by_cause\n",
      "Life_satisfaction_in_cantril_ladder_world_happiness_report_2021\n",
      "Life_expectancy\n",
      "Life_expectancy_at_birth\n",
      "Extreme_poverty_headcount_ratio_vs_life_expectancy_at_birth\n",
      "Human_development_index\n",
      "Mortality_rate_under_5_per_1000_live_births\n",
      "Suicide_mortality_rate_per_100000_population\n",
      "Annual_co2_emissions\n",
      "Average_total_years_of_schooling_for_adult_population\n"
     ]
    }
   ],
   "source": [
    "# NEEDED for geo maps\n",
    "\n",
    "for key, val in datadict.items():\n",
    "    print(key)\n",
    "    datadict[key].drop(columns=[\"Code\"], inplace = True)"
   ]
  },
  {
   "cell_type": "code",
   "execution_count": 11,
   "id": "1915e612-5649-4e5c-bc76-66b72affa9a9",
   "metadata": {},
   "outputs": [
    {
     "data": {
      "text/html": [
       "<div>\n",
       "<style scoped>\n",
       "    .dataframe tbody tr th:only-of-type {\n",
       "        vertical-align: middle;\n",
       "    }\n",
       "\n",
       "    .dataframe tbody tr th {\n",
       "        vertical-align: top;\n",
       "    }\n",
       "\n",
       "    .dataframe thead th {\n",
       "        text-align: right;\n",
       "    }\n",
       "</style>\n",
       "<table border=\"1\" class=\"dataframe\">\n",
       "  <thead>\n",
       "    <tr style=\"text-align: right;\">\n",
       "      <th></th>\n",
       "      <th>Country</th>\n",
       "      <th>Year</th>\n",
       "      <th>Number_of_executions_(amnesty_international)</th>\n",
       "      <th>Deaths_-_meningitis</th>\n",
       "      <th>Deaths_-_lower_respiratory_infections</th>\n",
       "      <th>Deaths_-_intestinal_infectious_diseases</th>\n",
       "      <th>Deaths_-_protein-energy_malnutrition</th>\n",
       "      <th>Terrorism</th>\n",
       "      <th>Deaths_-_cardiovascular_diseases</th>\n",
       "      <th>Deaths_-_alzheimer_disease_and_other_dementias</th>\n",
       "      <th>...</th>\n",
       "      <th>Life_satisfaction_in_Cantril_Ladder_(World_Happiness_Report_2021)</th>\n",
       "      <th>Life_expectancy</th>\n",
       "      <th>Life_expectancy_at_birth</th>\n",
       "      <th>$1.90_per_day_-_share_of_population_below_poverty_line</th>\n",
       "      <th>Life_expectancy_at_birth,_total_(years)</th>\n",
       "      <th>Total_population_(Gapminder,_HYDE_&amp;_UN)</th>\n",
       "      <th>Human_development_index</th>\n",
       "      <th>Mortality_rate_under_5_per_1000_live_births</th>\n",
       "      <th>Suicidy_mortality_rate_per_100000_population</th>\n",
       "      <th>Annual_CO2_emissions</th>\n",
       "    </tr>\n",
       "  </thead>\n",
       "  <tbody>\n",
       "    <tr>\n",
       "      <th>0</th>\n",
       "      <td>Afghanistan</td>\n",
       "      <td>1990</td>\n",
       "      <td>0</td>\n",
       "      <td>6469.977091</td>\n",
       "      <td>22836.912346</td>\n",
       "      <td>295.382207</td>\n",
       "      <td>1607.703797</td>\n",
       "      <td>12.0</td>\n",
       "      <td>46498.085024</td>\n",
       "      <td>1959.215373</td>\n",
       "      <td>...</td>\n",
       "      <td>NaN</td>\n",
       "      <td>50.331</td>\n",
       "      <td>50.331</td>\n",
       "      <td>0.0</td>\n",
       "      <td>50.331</td>\n",
       "      <td>12412311.0</td>\n",
       "      <td>NaN</td>\n",
       "      <td>17.77</td>\n",
       "      <td>NaN</td>\n",
       "      <td>2603238.0</td>\n",
       "    </tr>\n",
       "    <tr>\n",
       "      <th>1</th>\n",
       "      <td>Afghanistan</td>\n",
       "      <td>1991</td>\n",
       "      <td>0</td>\n",
       "      <td>6347.158764</td>\n",
       "      <td>22325.633931</td>\n",
       "      <td>303.866598</td>\n",
       "      <td>1558.132316</td>\n",
       "      <td>68.0</td>\n",
       "      <td>46967.361037</td>\n",
       "      <td>1987.812878</td>\n",
       "      <td>...</td>\n",
       "      <td>NaN</td>\n",
       "      <td>50.999</td>\n",
       "      <td>50.999</td>\n",
       "      <td>0.0</td>\n",
       "      <td>50.999</td>\n",
       "      <td>13299016.0</td>\n",
       "      <td>NaN</td>\n",
       "      <td>17.17</td>\n",
       "      <td>NaN</td>\n",
       "      <td>2427366.0</td>\n",
       "    </tr>\n",
       "    <tr>\n",
       "      <th>2</th>\n",
       "      <td>Afghanistan</td>\n",
       "      <td>1992</td>\n",
       "      <td>0</td>\n",
       "      <td>6659.741428</td>\n",
       "      <td>23205.280750</td>\n",
       "      <td>317.750121</td>\n",
       "      <td>1617.721576</td>\n",
       "      <td>49.0</td>\n",
       "      <td>48355.558515</td>\n",
       "      <td>2025.102326</td>\n",
       "      <td>...</td>\n",
       "      <td>NaN</td>\n",
       "      <td>51.641</td>\n",
       "      <td>51.641</td>\n",
       "      <td>0.0</td>\n",
       "      <td>51.641</td>\n",
       "      <td>14485543.0</td>\n",
       "      <td>NaN</td>\n",
       "      <td>16.59</td>\n",
       "      <td>NaN</td>\n",
       "      <td>1379462.0</td>\n",
       "    </tr>\n",
       "    <tr>\n",
       "      <th>3</th>\n",
       "      <td>Afghanistan</td>\n",
       "      <td>1993</td>\n",
       "      <td>0</td>\n",
       "      <td>8068.386263</td>\n",
       "      <td>28229.715397</td>\n",
       "      <td>333.978331</td>\n",
       "      <td>1931.808553</td>\n",
       "      <td>0.0</td>\n",
       "      <td>50072.563899</td>\n",
       "      <td>2064.827903</td>\n",
       "      <td>...</td>\n",
       "      <td>NaN</td>\n",
       "      <td>52.256</td>\n",
       "      <td>52.256</td>\n",
       "      <td>0.0</td>\n",
       "      <td>52.256</td>\n",
       "      <td>15816601.0</td>\n",
       "      <td>NaN</td>\n",
       "      <td>16.04</td>\n",
       "      <td>NaN</td>\n",
       "      <td>1333055.0</td>\n",
       "    </tr>\n",
       "    <tr>\n",
       "      <th>4</th>\n",
       "      <td>Afghanistan</td>\n",
       "      <td>1994</td>\n",
       "      <td>0</td>\n",
       "      <td>9432.845127</td>\n",
       "      <td>32652.297630</td>\n",
       "      <td>348.419085</td>\n",
       "      <td>2351.629206</td>\n",
       "      <td>22.0</td>\n",
       "      <td>51416.815442</td>\n",
       "      <td>2101.020630</td>\n",
       "      <td>...</td>\n",
       "      <td>NaN</td>\n",
       "      <td>52.842</td>\n",
       "      <td>52.842</td>\n",
       "      <td>0.0</td>\n",
       "      <td>52.842</td>\n",
       "      <td>17075728.0</td>\n",
       "      <td>NaN</td>\n",
       "      <td>15.52</td>\n",
       "      <td>NaN</td>\n",
       "      <td>1281602.0</td>\n",
       "    </tr>\n",
       "  </tbody>\n",
       "</table>\n",
       "<p>5 rows × 48 columns</p>\n",
       "</div>"
      ],
      "text/plain": [
       "       Country  Year Number_of_executions_(amnesty_international)  \\\n",
       "0  Afghanistan  1990                                            0   \n",
       "1  Afghanistan  1991                                            0   \n",
       "2  Afghanistan  1992                                            0   \n",
       "3  Afghanistan  1993                                            0   \n",
       "4  Afghanistan  1994                                            0   \n",
       "\n",
       "   Deaths_-_meningitis  Deaths_-_lower_respiratory_infections  \\\n",
       "0          6469.977091                           22836.912346   \n",
       "1          6347.158764                           22325.633931   \n",
       "2          6659.741428                           23205.280750   \n",
       "3          8068.386263                           28229.715397   \n",
       "4          9432.845127                           32652.297630   \n",
       "\n",
       "   Deaths_-_intestinal_infectious_diseases  \\\n",
       "0                               295.382207   \n",
       "1                               303.866598   \n",
       "2                               317.750121   \n",
       "3                               333.978331   \n",
       "4                               348.419085   \n",
       "\n",
       "   Deaths_-_protein-energy_malnutrition  Terrorism  \\\n",
       "0                           1607.703797       12.0   \n",
       "1                           1558.132316       68.0   \n",
       "2                           1617.721576       49.0   \n",
       "3                           1931.808553        0.0   \n",
       "4                           2351.629206       22.0   \n",
       "\n",
       "   Deaths_-_cardiovascular_diseases  \\\n",
       "0                      46498.085024   \n",
       "1                      46967.361037   \n",
       "2                      48355.558515   \n",
       "3                      50072.563899   \n",
       "4                      51416.815442   \n",
       "\n",
       "   Deaths_-_alzheimer_disease_and_other_dementias  ...  \\\n",
       "0                                     1959.215373  ...   \n",
       "1                                     1987.812878  ...   \n",
       "2                                     2025.102326  ...   \n",
       "3                                     2064.827903  ...   \n",
       "4                                     2101.020630  ...   \n",
       "\n",
       "   Life_satisfaction_in_Cantril_Ladder_(World_Happiness_Report_2021)  \\\n",
       "0                                                NaN                   \n",
       "1                                                NaN                   \n",
       "2                                                NaN                   \n",
       "3                                                NaN                   \n",
       "4                                                NaN                   \n",
       "\n",
       "   Life_expectancy  Life_expectancy_at_birth  \\\n",
       "0           50.331                    50.331   \n",
       "1           50.999                    50.999   \n",
       "2           51.641                    51.641   \n",
       "3           52.256                    52.256   \n",
       "4           52.842                    52.842   \n",
       "\n",
       "   $1.90_per_day_-_share_of_population_below_poverty_line  \\\n",
       "0                                                0.0        \n",
       "1                                                0.0        \n",
       "2                                                0.0        \n",
       "3                                                0.0        \n",
       "4                                                0.0        \n",
       "\n",
       "   Life_expectancy_at_birth,_total_(years)  \\\n",
       "0                                   50.331   \n",
       "1                                   50.999   \n",
       "2                                   51.641   \n",
       "3                                   52.256   \n",
       "4                                   52.842   \n",
       "\n",
       "   Total_population_(Gapminder,_HYDE_&_UN)  Human_development_index  \\\n",
       "0                               12412311.0                      NaN   \n",
       "1                               13299016.0                      NaN   \n",
       "2                               14485543.0                      NaN   \n",
       "3                               15816601.0                      NaN   \n",
       "4                               17075728.0                      NaN   \n",
       "\n",
       "   Mortality_rate_under_5_per_1000_live_births  \\\n",
       "0                                        17.77   \n",
       "1                                        17.17   \n",
       "2                                        16.59   \n",
       "3                                        16.04   \n",
       "4                                        15.52   \n",
       "\n",
       "   Suicidy_mortality_rate_per_100000_population  Annual_CO2_emissions  \n",
       "0                                           NaN             2603238.0  \n",
       "1                                           NaN             2427366.0  \n",
       "2                                           NaN             1379462.0  \n",
       "3                                           NaN             1333055.0  \n",
       "4                                           NaN             1281602.0  \n",
       "\n",
       "[5 rows x 48 columns]"
      ]
     },
     "execution_count": 11,
     "metadata": {},
     "output_type": "execute_result"
    }
   ],
   "source": [
    "df = pd.merge(left=datadict[\"Anual_number_of_deaths_by_cause\"], right=datadict[\"Average_total_years_of_schooling_for_adult_population\"], how=\"outer\", on=[\"Year\", \"Country\"])\n",
    "\n",
    "df = pd.merge(left=df, right=datadict[\"Life_satisfaction_in_cantril_ladder_world_happiness_report_2021\"], how=\"outer\", on=[\"Year\", \"Country\"])\n",
    "\n",
    "df = pd.merge(left=df, right=datadict[\"Life_expectancy\"], how=\"outer\", on=[\"Year\", \"Country\"])\n",
    "\n",
    "df = pd.merge(left=df, right=datadict[\"Life_expectancy_at_birth\"], how=\"outer\", on=[\"Year\", \"Country\"])\n",
    "\n",
    "df = pd.merge(left=df, right=datadict[\"Extreme_poverty_headcount_ratio_vs_life_expectancy_at_birth\"], how=\"outer\", on=[\"Year\", \"Country\"])\n",
    "\n",
    "df = pd.merge(left=df, right=datadict[\"Human_development_index\"], how=\"outer\", on=[\"Year\", \"Country\"])\n",
    "\n",
    "df = pd.merge(left=df, right=datadict[\"Mortality_rate_under_5_per_1000_live_births\"], how=\"outer\", on=[\"Year\", \"Country\"])\n",
    "\n",
    "df = pd.merge(left=df, right=datadict[\"Suicide_mortality_rate_per_100000_population\"], how=\"outer\", on=[\"Year\", \"Country\"])\n",
    "\n",
    "df = pd.merge(left=df, right=datadict[\"Annual_co2_emissions\"], how=\"outer\", on=[\"Year\", \"Country\"])\n",
    "\n",
    "df.head()"
   ]
  },
  {
   "cell_type": "code",
   "execution_count": 12,
   "id": "9c810c0e-3252-4ac0-a162-b1d832e15055",
   "metadata": {},
   "outputs": [
    {
     "data": {
      "text/plain": [
       "Index(['Country', 'Year', 'Number_of_executions_(amnesty_international)',\n",
       "       'Deaths_-_meningitis', 'Deaths_-_lower_respiratory_infections',\n",
       "       'Deaths_-_intestinal_infectious_diseases',\n",
       "       'Deaths_-_protein-energy_malnutrition', 'Terrorism',\n",
       "       'Deaths_-_cardiovascular_diseases',\n",
       "       'Deaths_-_alzheimer_disease_and_other_dementias',\n",
       "       'Deaths_-_chronic_kidney_disease',\n",
       "       'Deaths_-_chronic_respiratory_diseases',\n",
       "       'Deaths_-_cirrhosis_and_other_chronic_liver_diseases',\n",
       "       'Deaths_-_digestive_diseases', 'Deaths_-_hepatitis',\n",
       "       'Deaths_-_neoplasms', 'Deaths_-_parkinson_disease',\n",
       "       'Deaths_-_fire,_heat,_and_hot_substances', 'Deaths_-_malaria',\n",
       "       'Deaths_-_drowning', 'Deaths_-_interpersonal_violence',\n",
       "       'Deaths_-_hiv/aids', 'Deaths_-_drug_use_disorders',\n",
       "       'Deaths_-_tuberculosis', 'Deaths_-_road_injuries',\n",
       "       'Deaths_-_maternal_disorders', 'Deaths_-_neonatal_disorders',\n",
       "       'Deaths_-_alcohol_use_disorders',\n",
       "       'Deaths_-_exposure_to_forces_of_nature', 'Deaths_-_diarrheal_diseases',\n",
       "       'Deaths_-_environmental_heat_and_cold_exposure',\n",
       "       'Deaths_-_nutritional_deficiencies', 'Deaths_-_self-harm',\n",
       "       'Deaths_-_conflict_and_terrorism', 'Deaths_-_diabetes_mellitus',\n",
       "       'Deaths_-_poisonings',\n",
       "       'Average_total_years_of_schooling_for_adult_population', 'Unnamed: 0',\n",
       "       'Life_satisfaction_in_Cantril_Ladder_(World_Happiness_Report_2021)',\n",
       "       'Life_expectancy', 'Life_expectancy_at_birth',\n",
       "       '$1.90_per_day_-_share_of_population_below_poverty_line',\n",
       "       'Life_expectancy_at_birth,_total_(years)',\n",
       "       'Total_population_(Gapminder,_HYDE_&_UN)', 'Human_development_index',\n",
       "       'Mortality_rate_under_5_per_1000_live_births',\n",
       "       'Suicidy_mortality_rate_per_100000_population', 'Annual_CO2_emissions'],\n",
       "      dtype='object')"
      ]
     },
     "execution_count": 12,
     "metadata": {},
     "output_type": "execute_result"
    }
   ],
   "source": [
    "df.columns"
   ]
  },
  {
   "cell_type": "code",
   "execution_count": 13,
   "id": "c38fe36d-e456-4161-9282-2e6fe30dbd52",
   "metadata": {},
   "outputs": [],
   "source": [
    "df.rename(columns={\"Number_of_executions_(amnesty_international)\" : \"Number_of_executions\", \"Life_satisfaction_in_Cantril_Ladder_(World_Happiness_Report_2021)\" : \"Life_satisfaction\", \"$1.90_per_day_-_share_of_population_below_poverty_line\" : \"Share_of_population_below_poverty_line_2USD_per_day\", \"Total_population_(Gapminder,_HYDE_&_UN)\" : \"Total_population\"}, inplace=True)"
   ]
  },
  {
   "cell_type": "code",
   "execution_count": 14,
   "id": "275521c0-4425-415a-8a88-6d874411fffa",
   "metadata": {},
   "outputs": [
    {
     "data": {
      "text/plain": [
       "Index(['Country', 'Year', 'Deaths_-_meningitis',\n",
       "       'Deaths_-_lower_respiratory_infections',\n",
       "       'Deaths_-_intestinal_infectious_diseases',\n",
       "       'Deaths_-_protein-energy_malnutrition', 'Terrorism',\n",
       "       'Deaths_-_cardiovascular_diseases',\n",
       "       'Deaths_-_alzheimer_disease_and_other_dementias',\n",
       "       'Deaths_-_chronic_kidney_disease',\n",
       "       'Deaths_-_chronic_respiratory_diseases',\n",
       "       'Deaths_-_cirrhosis_and_other_chronic_liver_diseases',\n",
       "       'Deaths_-_digestive_diseases', 'Deaths_-_hepatitis',\n",
       "       'Deaths_-_neoplasms', 'Deaths_-_parkinson_disease',\n",
       "       'Deaths_-_fire,_heat,_and_hot_substances', 'Deaths_-_malaria',\n",
       "       'Deaths_-_drowning', 'Deaths_-_interpersonal_violence',\n",
       "       'Deaths_-_hiv/aids', 'Deaths_-_drug_use_disorders',\n",
       "       'Deaths_-_tuberculosis', 'Deaths_-_road_injuries',\n",
       "       'Deaths_-_maternal_disorders', 'Deaths_-_neonatal_disorders',\n",
       "       'Deaths_-_alcohol_use_disorders',\n",
       "       'Deaths_-_exposure_to_forces_of_nature', 'Deaths_-_diarrheal_diseases',\n",
       "       'Deaths_-_environmental_heat_and_cold_exposure',\n",
       "       'Deaths_-_nutritional_deficiencies', 'Deaths_-_self-harm',\n",
       "       'Deaths_-_conflict_and_terrorism', 'Deaths_-_diabetes_mellitus',\n",
       "       'Deaths_-_poisonings',\n",
       "       'Average_total_years_of_schooling_for_adult_population', 'Unnamed: 0',\n",
       "       'Life_satisfaction', 'Life_expectancy', 'Life_expectancy_at_birth',\n",
       "       'Share_of_population_below_poverty_line_2USD_per_day',\n",
       "       'Life_expectancy_at_birth,_total_(years)', 'Total_population',\n",
       "       'Human_development_index',\n",
       "       'Mortality_rate_under_5_per_1000_live_births',\n",
       "       'Suicidy_mortality_rate_per_100000_population', 'Annual_CO2_emissions'],\n",
       "      dtype='object')"
      ]
     },
     "execution_count": 14,
     "metadata": {},
     "output_type": "execute_result"
    }
   ],
   "source": [
    "df.drop(columns={\"Number_of_executions\"}, inplace=True)\n",
    "df.columns"
   ]
  },
  {
   "cell_type": "code",
   "execution_count": 15,
   "id": "ba2723c3-0f07-41c1-9209-7c9efd453f56",
   "metadata": {},
   "outputs": [],
   "source": [
    "df.columns = df.columns.str.replace(\"_-_\", \"_\")"
   ]
  },
  {
   "cell_type": "code",
   "execution_count": 16,
   "id": "f7fc5797-10ec-48d3-bf23-183ed00ac858",
   "metadata": {},
   "outputs": [
    {
     "data": {
      "text/plain": [
       "Index(['Country', 'Year', 'Deaths_meningitis',\n",
       "       'Deaths_lower_respiratory_infections',\n",
       "       'Deaths_intestinal_infectious_diseases',\n",
       "       'Deaths_protein-energy_malnutrition', 'Terrorism',\n",
       "       'Deaths_cardiovascular_diseases',\n",
       "       'Deaths_alzheimer_disease_and_other_dementias',\n",
       "       'Deaths_chronic_kidney_disease', 'Deaths_chronic_respiratory_diseases',\n",
       "       'Deaths_cirrhosis_and_other_chronic_liver_diseases',\n",
       "       'Deaths_digestive_diseases', 'Deaths_hepatitis', 'Deaths_neoplasms',\n",
       "       'Deaths_parkinson_disease', 'Deaths_fire,_heat,_and_hot_substances',\n",
       "       'Deaths_malaria', 'Deaths_drowning', 'Deaths_interpersonal_violence',\n",
       "       'Deaths_hiv/aids', 'Deaths_drug_use_disorders', 'Deaths_tuberculosis',\n",
       "       'Deaths_road_injuries', 'Deaths_maternal_disorders',\n",
       "       'Deaths_neonatal_disorders', 'Deaths_alcohol_use_disorders',\n",
       "       'Deaths_exposure_to_forces_of_nature', 'Deaths_diarrheal_diseases',\n",
       "       'Deaths_environmental_heat_and_cold_exposure',\n",
       "       'Deaths_nutritional_deficiencies', 'Deaths_self-harm',\n",
       "       'Deaths_conflict_and_terrorism', 'Deaths_diabetes_mellitus',\n",
       "       'Deaths_poisonings',\n",
       "       'Average_total_years_of_schooling_for_adult_population', 'Unnamed: 0',\n",
       "       'Life_satisfaction', 'Life_expectancy', 'Life_expectancy_at_birth',\n",
       "       'Share_of_population_below_poverty_line_2USD_per_day',\n",
       "       'Life_expectancy_at_birth,_total_(years)', 'Total_population',\n",
       "       'Human_development_index',\n",
       "       'Mortality_rate_under_5_per_1000_live_births',\n",
       "       'Suicidy_mortality_rate_per_100000_population', 'Annual_CO2_emissions'],\n",
       "      dtype='object')"
      ]
     },
     "execution_count": 16,
     "metadata": {},
     "output_type": "execute_result"
    }
   ],
   "source": [
    "df.columns"
   ]
  },
  {
   "cell_type": "code",
   "execution_count": 17,
   "id": "2e2acf06-157f-4ef8-8578-45c6266b6d6f",
   "metadata": {},
   "outputs": [],
   "source": [
    "df.rename(columns={\"Deaths_hiv/aids\" : \"Deaths_aids\"}, inplace = True)"
   ]
  },
  {
   "cell_type": "code",
   "execution_count": 18,
   "id": "45719060-347c-4f5f-8e66-20dc109f6a99",
   "metadata": {},
   "outputs": [],
   "source": [
    "df.columns = df.columns.str.replace(\"-\",\"_\")"
   ]
  },
  {
   "cell_type": "code",
   "execution_count": 19,
   "id": "a6801e54-0735-4945-9e05-83c307ee0d98",
   "metadata": {},
   "outputs": [],
   "source": [
    "df.rename(columns={\"Life_expectancy_at_birth,_total_(years)\" : \"Total_life_expectancy_at_birth_in_years\"}, inplace = True)"
   ]
  },
  {
   "cell_type": "code",
   "execution_count": 20,
   "id": "99b4a1ef-939b-49fd-b0da-e7bbe80ad971",
   "metadata": {},
   "outputs": [],
   "source": [
    "df.rename(columns={\"Deaths_protein-energy_malnutrition\" : \"Deaths_protein_energy_malnutrition\"}, inplace = True)"
   ]
  },
  {
   "cell_type": "code",
   "execution_count": 21,
   "id": "365cf34e-0fa3-426d-9708-35d49ddcb0e0",
   "metadata": {},
   "outputs": [],
   "source": [
    "df.rename(columns={\"Deaths_fire,_heat,_and_hot_substances\" : \"Deaths_by_fire_and_heat\"}, inplace=True)"
   ]
  },
  {
   "cell_type": "code",
   "execution_count": 22,
   "id": "7ef72694-1a9b-4f72-b9ef-94b54b954cc8",
   "metadata": {},
   "outputs": [
    {
     "data": {
      "text/plain": [
       "Index(['Country', 'Year', 'Deaths_meningitis',\n",
       "       'Deaths_lower_respiratory_infections',\n",
       "       'Deaths_intestinal_infectious_diseases',\n",
       "       'Deaths_protein_energy_malnutrition', 'Terrorism',\n",
       "       'Deaths_cardiovascular_diseases',\n",
       "       'Deaths_alzheimer_disease_and_other_dementias',\n",
       "       'Deaths_chronic_kidney_disease', 'Deaths_chronic_respiratory_diseases',\n",
       "       'Deaths_cirrhosis_and_other_chronic_liver_diseases',\n",
       "       'Deaths_digestive_diseases', 'Deaths_hepatitis', 'Deaths_neoplasms',\n",
       "       'Deaths_parkinson_disease', 'Deaths_by_fire_and_heat', 'Deaths_malaria',\n",
       "       'Deaths_drowning', 'Deaths_interpersonal_violence', 'Deaths_aids',\n",
       "       'Deaths_drug_use_disorders', 'Deaths_tuberculosis',\n",
       "       'Deaths_road_injuries', 'Deaths_maternal_disorders',\n",
       "       'Deaths_neonatal_disorders', 'Deaths_alcohol_use_disorders',\n",
       "       'Deaths_exposure_to_forces_of_nature', 'Deaths_diarrheal_diseases',\n",
       "       'Deaths_environmental_heat_and_cold_exposure',\n",
       "       'Deaths_nutritional_deficiencies', 'Deaths_self_harm',\n",
       "       'Deaths_conflict_and_terrorism', 'Deaths_diabetes_mellitus',\n",
       "       'Deaths_poisonings',\n",
       "       'Average_total_years_of_schooling_for_adult_population', 'Unnamed: 0',\n",
       "       'Life_satisfaction', 'Life_expectancy', 'Life_expectancy_at_birth',\n",
       "       'Share_of_population_below_poverty_line_2USD_per_day',\n",
       "       'Total_life_expectancy_at_birth_in_years', 'Total_population',\n",
       "       'Human_development_index',\n",
       "       'Mortality_rate_under_5_per_1000_live_births',\n",
       "       'Suicidy_mortality_rate_per_100000_population', 'Annual_CO2_emissions'],\n",
       "      dtype='object')"
      ]
     },
     "execution_count": 22,
     "metadata": {},
     "output_type": "execute_result"
    }
   ],
   "source": [
    "df.columns"
   ]
  },
  {
   "cell_type": "code",
   "execution_count": 23,
   "id": "ed3ad87b-810e-4901-ae83-1ad100c1e046",
   "metadata": {},
   "outputs": [],
   "source": [
    "df.drop(columns=\"Unnamed: 0\", inplace = True)"
   ]
  },
  {
   "cell_type": "code",
   "execution_count": 24,
   "id": "104c65d8-5185-46c1-ae50-8794917b9f03",
   "metadata": {},
   "outputs": [
    {
     "data": {
      "text/plain": [
       "Index(['Country', 'Year', 'Deaths_meningitis',\n",
       "       'Deaths_lower_respiratory_infections',\n",
       "       'Deaths_intestinal_infectious_diseases',\n",
       "       'Deaths_protein_energy_malnutrition', 'Terrorism',\n",
       "       'Deaths_cardiovascular_diseases',\n",
       "       'Deaths_alzheimer_disease_and_other_dementias',\n",
       "       'Deaths_chronic_kidney_disease', 'Deaths_chronic_respiratory_diseases',\n",
       "       'Deaths_cirrhosis_and_other_chronic_liver_diseases',\n",
       "       'Deaths_digestive_diseases', 'Deaths_hepatitis', 'Deaths_neoplasms',\n",
       "       'Deaths_parkinson_disease', 'Deaths_by_fire_and_heat', 'Deaths_malaria',\n",
       "       'Deaths_drowning', 'Deaths_interpersonal_violence', 'Deaths_aids',\n",
       "       'Deaths_drug_use_disorders', 'Deaths_tuberculosis',\n",
       "       'Deaths_road_injuries', 'Deaths_maternal_disorders',\n",
       "       'Deaths_neonatal_disorders', 'Deaths_alcohol_use_disorders',\n",
       "       'Deaths_exposure_to_forces_of_nature', 'Deaths_diarrheal_diseases',\n",
       "       'Deaths_environmental_heat_and_cold_exposure',\n",
       "       'Deaths_nutritional_deficiencies', 'Deaths_self_harm',\n",
       "       'Deaths_conflict_and_terrorism', 'Deaths_diabetes_mellitus',\n",
       "       'Deaths_poisonings',\n",
       "       'Average_total_years_of_schooling_for_adult_population',\n",
       "       'Life_satisfaction', 'Life_expectancy', 'Life_expectancy_at_birth',\n",
       "       'Share_of_population_below_poverty_line_2USD_per_day',\n",
       "       'Total_life_expectancy_at_birth_in_years', 'Total_population',\n",
       "       'Human_development_index',\n",
       "       'Mortality_rate_under_5_per_1000_live_births',\n",
       "       'Suicidy_mortality_rate_per_100000_population', 'Annual_CO2_emissions'],\n",
       "      dtype='object')"
      ]
     },
     "execution_count": 24,
     "metadata": {},
     "output_type": "execute_result"
    }
   ],
   "source": [
    "df.columns"
   ]
  },
  {
   "cell_type": "code",
   "execution_count": 25,
   "id": "8383da30-4078-4b6e-b29f-9d7899362970",
   "metadata": {},
   "outputs": [
    {
     "data": {
      "text/html": [
       "<div>\n",
       "<style scoped>\n",
       "    .dataframe tbody tr th:only-of-type {\n",
       "        vertical-align: middle;\n",
       "    }\n",
       "\n",
       "    .dataframe tbody tr th {\n",
       "        vertical-align: top;\n",
       "    }\n",
       "\n",
       "    .dataframe thead th {\n",
       "        text-align: right;\n",
       "    }\n",
       "</style>\n",
       "<table border=\"1\" class=\"dataframe\">\n",
       "  <thead>\n",
       "    <tr style=\"text-align: right;\">\n",
       "      <th></th>\n",
       "      <th>Country</th>\n",
       "      <th>Year</th>\n",
       "      <th>Deaths_meningitis</th>\n",
       "      <th>Deaths_lower_respiratory_infections</th>\n",
       "      <th>Deaths_intestinal_infectious_diseases</th>\n",
       "      <th>Deaths_protein_energy_malnutrition</th>\n",
       "      <th>Terrorism</th>\n",
       "      <th>Deaths_cardiovascular_diseases</th>\n",
       "      <th>Deaths_alzheimer_disease_and_other_dementias</th>\n",
       "      <th>Deaths_chronic_kidney_disease</th>\n",
       "      <th>...</th>\n",
       "      <th>Life_satisfaction</th>\n",
       "      <th>Life_expectancy</th>\n",
       "      <th>Life_expectancy_at_birth</th>\n",
       "      <th>Share_of_population_below_poverty_line_2USD_per_day</th>\n",
       "      <th>Total_life_expectancy_at_birth_in_years</th>\n",
       "      <th>Total_population</th>\n",
       "      <th>Human_development_index</th>\n",
       "      <th>Mortality_rate_under_5_per_1000_live_births</th>\n",
       "      <th>Suicidy_mortality_rate_per_100000_population</th>\n",
       "      <th>Annual_CO2_emissions</th>\n",
       "    </tr>\n",
       "  </thead>\n",
       "  <tbody>\n",
       "    <tr>\n",
       "      <th>0</th>\n",
       "      <td>Afghanistan</td>\n",
       "      <td>1990</td>\n",
       "      <td>6469.977091</td>\n",
       "      <td>22836.912346</td>\n",
       "      <td>295.382207</td>\n",
       "      <td>1607.703797</td>\n",
       "      <td>12.0</td>\n",
       "      <td>46498.085024</td>\n",
       "      <td>1959.215373</td>\n",
       "      <td>3155.356340</td>\n",
       "      <td>...</td>\n",
       "      <td>NaN</td>\n",
       "      <td>50.331</td>\n",
       "      <td>50.331</td>\n",
       "      <td>0.0</td>\n",
       "      <td>50.331</td>\n",
       "      <td>12412311.0</td>\n",
       "      <td>NaN</td>\n",
       "      <td>17.77</td>\n",
       "      <td>NaN</td>\n",
       "      <td>2.603238e+06</td>\n",
       "    </tr>\n",
       "    <tr>\n",
       "      <th>1</th>\n",
       "      <td>Afghanistan</td>\n",
       "      <td>1991</td>\n",
       "      <td>6347.158764</td>\n",
       "      <td>22325.633931</td>\n",
       "      <td>303.866598</td>\n",
       "      <td>1558.132316</td>\n",
       "      <td>68.0</td>\n",
       "      <td>46967.361037</td>\n",
       "      <td>1987.812878</td>\n",
       "      <td>3124.082631</td>\n",
       "      <td>...</td>\n",
       "      <td>NaN</td>\n",
       "      <td>50.999</td>\n",
       "      <td>50.999</td>\n",
       "      <td>0.0</td>\n",
       "      <td>50.999</td>\n",
       "      <td>13299016.0</td>\n",
       "      <td>NaN</td>\n",
       "      <td>17.17</td>\n",
       "      <td>NaN</td>\n",
       "      <td>2.427366e+06</td>\n",
       "    </tr>\n",
       "    <tr>\n",
       "      <th>2</th>\n",
       "      <td>Afghanistan</td>\n",
       "      <td>1992</td>\n",
       "      <td>6659.741428</td>\n",
       "      <td>23205.280750</td>\n",
       "      <td>317.750121</td>\n",
       "      <td>1617.721576</td>\n",
       "      <td>49.0</td>\n",
       "      <td>48355.558515</td>\n",
       "      <td>2025.102326</td>\n",
       "      <td>3192.278428</td>\n",
       "      <td>...</td>\n",
       "      <td>NaN</td>\n",
       "      <td>51.641</td>\n",
       "      <td>51.641</td>\n",
       "      <td>0.0</td>\n",
       "      <td>51.641</td>\n",
       "      <td>14485543.0</td>\n",
       "      <td>NaN</td>\n",
       "      <td>16.59</td>\n",
       "      <td>NaN</td>\n",
       "      <td>1.379462e+06</td>\n",
       "    </tr>\n",
       "    <tr>\n",
       "      <th>3</th>\n",
       "      <td>Afghanistan</td>\n",
       "      <td>1993</td>\n",
       "      <td>8068.386263</td>\n",
       "      <td>28229.715397</td>\n",
       "      <td>333.978331</td>\n",
       "      <td>1931.808553</td>\n",
       "      <td>0.0</td>\n",
       "      <td>50072.563899</td>\n",
       "      <td>2064.827903</td>\n",
       "      <td>3343.974014</td>\n",
       "      <td>...</td>\n",
       "      <td>NaN</td>\n",
       "      <td>52.256</td>\n",
       "      <td>52.256</td>\n",
       "      <td>0.0</td>\n",
       "      <td>52.256</td>\n",
       "      <td>15816601.0</td>\n",
       "      <td>NaN</td>\n",
       "      <td>16.04</td>\n",
       "      <td>NaN</td>\n",
       "      <td>1.333055e+06</td>\n",
       "    </tr>\n",
       "    <tr>\n",
       "      <th>4</th>\n",
       "      <td>Afghanistan</td>\n",
       "      <td>1994</td>\n",
       "      <td>9432.845127</td>\n",
       "      <td>32652.297630</td>\n",
       "      <td>348.419085</td>\n",
       "      <td>2351.629206</td>\n",
       "      <td>22.0</td>\n",
       "      <td>51416.815442</td>\n",
       "      <td>2101.020630</td>\n",
       "      <td>3480.299710</td>\n",
       "      <td>...</td>\n",
       "      <td>NaN</td>\n",
       "      <td>52.842</td>\n",
       "      <td>52.842</td>\n",
       "      <td>0.0</td>\n",
       "      <td>52.842</td>\n",
       "      <td>17075728.0</td>\n",
       "      <td>NaN</td>\n",
       "      <td>15.52</td>\n",
       "      <td>NaN</td>\n",
       "      <td>1.281602e+06</td>\n",
       "    </tr>\n",
       "    <tr>\n",
       "      <th>...</th>\n",
       "      <td>...</td>\n",
       "      <td>...</td>\n",
       "      <td>...</td>\n",
       "      <td>...</td>\n",
       "      <td>...</td>\n",
       "      <td>...</td>\n",
       "      <td>...</td>\n",
       "      <td>...</td>\n",
       "      <td>...</td>\n",
       "      <td>...</td>\n",
       "      <td>...</td>\n",
       "      <td>...</td>\n",
       "      <td>...</td>\n",
       "      <td>...</td>\n",
       "      <td>...</td>\n",
       "      <td>...</td>\n",
       "      <td>...</td>\n",
       "      <td>...</td>\n",
       "      <td>...</td>\n",
       "      <td>...</td>\n",
       "      <td>...</td>\n",
       "    </tr>\n",
       "    <tr>\n",
       "      <th>37786</th>\n",
       "      <td>World</td>\n",
       "      <td>1895</td>\n",
       "      <td>NaN</td>\n",
       "      <td>NaN</td>\n",
       "      <td>NaN</td>\n",
       "      <td>NaN</td>\n",
       "      <td>NaN</td>\n",
       "      <td>NaN</td>\n",
       "      <td>NaN</td>\n",
       "      <td>NaN</td>\n",
       "      <td>...</td>\n",
       "      <td>NaN</td>\n",
       "      <td>NaN</td>\n",
       "      <td>NaN</td>\n",
       "      <td>NaN</td>\n",
       "      <td>NaN</td>\n",
       "      <td>NaN</td>\n",
       "      <td>NaN</td>\n",
       "      <td>NaN</td>\n",
       "      <td>NaN</td>\n",
       "      <td>1.485281e+09</td>\n",
       "    </tr>\n",
       "    <tr>\n",
       "      <th>37787</th>\n",
       "      <td>World</td>\n",
       "      <td>1896</td>\n",
       "      <td>NaN</td>\n",
       "      <td>NaN</td>\n",
       "      <td>NaN</td>\n",
       "      <td>NaN</td>\n",
       "      <td>NaN</td>\n",
       "      <td>NaN</td>\n",
       "      <td>NaN</td>\n",
       "      <td>NaN</td>\n",
       "      <td>...</td>\n",
       "      <td>NaN</td>\n",
       "      <td>NaN</td>\n",
       "      <td>NaN</td>\n",
       "      <td>NaN</td>\n",
       "      <td>NaN</td>\n",
       "      <td>NaN</td>\n",
       "      <td>NaN</td>\n",
       "      <td>NaN</td>\n",
       "      <td>NaN</td>\n",
       "      <td>1.533711e+09</td>\n",
       "    </tr>\n",
       "    <tr>\n",
       "      <th>37788</th>\n",
       "      <td>World</td>\n",
       "      <td>1897</td>\n",
       "      <td>NaN</td>\n",
       "      <td>NaN</td>\n",
       "      <td>NaN</td>\n",
       "      <td>NaN</td>\n",
       "      <td>NaN</td>\n",
       "      <td>NaN</td>\n",
       "      <td>NaN</td>\n",
       "      <td>NaN</td>\n",
       "      <td>...</td>\n",
       "      <td>NaN</td>\n",
       "      <td>NaN</td>\n",
       "      <td>NaN</td>\n",
       "      <td>NaN</td>\n",
       "      <td>NaN</td>\n",
       "      <td>NaN</td>\n",
       "      <td>NaN</td>\n",
       "      <td>NaN</td>\n",
       "      <td>NaN</td>\n",
       "      <td>1.606311e+09</td>\n",
       "    </tr>\n",
       "    <tr>\n",
       "      <th>37789</th>\n",
       "      <td>World</td>\n",
       "      <td>1898</td>\n",
       "      <td>NaN</td>\n",
       "      <td>NaN</td>\n",
       "      <td>NaN</td>\n",
       "      <td>NaN</td>\n",
       "      <td>NaN</td>\n",
       "      <td>NaN</td>\n",
       "      <td>NaN</td>\n",
       "      <td>NaN</td>\n",
       "      <td>...</td>\n",
       "      <td>NaN</td>\n",
       "      <td>NaN</td>\n",
       "      <td>NaN</td>\n",
       "      <td>NaN</td>\n",
       "      <td>NaN</td>\n",
       "      <td>NaN</td>\n",
       "      <td>NaN</td>\n",
       "      <td>NaN</td>\n",
       "      <td>NaN</td>\n",
       "      <td>1.694277e+09</td>\n",
       "    </tr>\n",
       "    <tr>\n",
       "      <th>37790</th>\n",
       "      <td>World</td>\n",
       "      <td>1899</td>\n",
       "      <td>NaN</td>\n",
       "      <td>NaN</td>\n",
       "      <td>NaN</td>\n",
       "      <td>NaN</td>\n",
       "      <td>NaN</td>\n",
       "      <td>NaN</td>\n",
       "      <td>NaN</td>\n",
       "      <td>NaN</td>\n",
       "      <td>...</td>\n",
       "      <td>NaN</td>\n",
       "      <td>NaN</td>\n",
       "      <td>NaN</td>\n",
       "      <td>NaN</td>\n",
       "      <td>NaN</td>\n",
       "      <td>NaN</td>\n",
       "      <td>NaN</td>\n",
       "      <td>NaN</td>\n",
       "      <td>NaN</td>\n",
       "      <td>1.850906e+09</td>\n",
       "    </tr>\n",
       "  </tbody>\n",
       "</table>\n",
       "<p>36271 rows × 46 columns</p>\n",
       "</div>"
      ],
      "text/plain": [
       "           Country  Year  Deaths_meningitis  \\\n",
       "0      Afghanistan  1990        6469.977091   \n",
       "1      Afghanistan  1991        6347.158764   \n",
       "2      Afghanistan  1992        6659.741428   \n",
       "3      Afghanistan  1993        8068.386263   \n",
       "4      Afghanistan  1994        9432.845127   \n",
       "...            ...   ...                ...   \n",
       "37786        World  1895                NaN   \n",
       "37787        World  1896                NaN   \n",
       "37788        World  1897                NaN   \n",
       "37789        World  1898                NaN   \n",
       "37790        World  1899                NaN   \n",
       "\n",
       "       Deaths_lower_respiratory_infections  \\\n",
       "0                             22836.912346   \n",
       "1                             22325.633931   \n",
       "2                             23205.280750   \n",
       "3                             28229.715397   \n",
       "4                             32652.297630   \n",
       "...                                    ...   \n",
       "37786                                  NaN   \n",
       "37787                                  NaN   \n",
       "37788                                  NaN   \n",
       "37789                                  NaN   \n",
       "37790                                  NaN   \n",
       "\n",
       "       Deaths_intestinal_infectious_diseases  \\\n",
       "0                                 295.382207   \n",
       "1                                 303.866598   \n",
       "2                                 317.750121   \n",
       "3                                 333.978331   \n",
       "4                                 348.419085   \n",
       "...                                      ...   \n",
       "37786                                    NaN   \n",
       "37787                                    NaN   \n",
       "37788                                    NaN   \n",
       "37789                                    NaN   \n",
       "37790                                    NaN   \n",
       "\n",
       "       Deaths_protein_energy_malnutrition  Terrorism  \\\n",
       "0                             1607.703797       12.0   \n",
       "1                             1558.132316       68.0   \n",
       "2                             1617.721576       49.0   \n",
       "3                             1931.808553        0.0   \n",
       "4                             2351.629206       22.0   \n",
       "...                                   ...        ...   \n",
       "37786                                 NaN        NaN   \n",
       "37787                                 NaN        NaN   \n",
       "37788                                 NaN        NaN   \n",
       "37789                                 NaN        NaN   \n",
       "37790                                 NaN        NaN   \n",
       "\n",
       "       Deaths_cardiovascular_diseases  \\\n",
       "0                        46498.085024   \n",
       "1                        46967.361037   \n",
       "2                        48355.558515   \n",
       "3                        50072.563899   \n",
       "4                        51416.815442   \n",
       "...                               ...   \n",
       "37786                             NaN   \n",
       "37787                             NaN   \n",
       "37788                             NaN   \n",
       "37789                             NaN   \n",
       "37790                             NaN   \n",
       "\n",
       "       Deaths_alzheimer_disease_and_other_dementias  \\\n",
       "0                                       1959.215373   \n",
       "1                                       1987.812878   \n",
       "2                                       2025.102326   \n",
       "3                                       2064.827903   \n",
       "4                                       2101.020630   \n",
       "...                                             ...   \n",
       "37786                                           NaN   \n",
       "37787                                           NaN   \n",
       "37788                                           NaN   \n",
       "37789                                           NaN   \n",
       "37790                                           NaN   \n",
       "\n",
       "       Deaths_chronic_kidney_disease  ...  Life_satisfaction  Life_expectancy  \\\n",
       "0                        3155.356340  ...                NaN           50.331   \n",
       "1                        3124.082631  ...                NaN           50.999   \n",
       "2                        3192.278428  ...                NaN           51.641   \n",
       "3                        3343.974014  ...                NaN           52.256   \n",
       "4                        3480.299710  ...                NaN           52.842   \n",
       "...                              ...  ...                ...              ...   \n",
       "37786                            NaN  ...                NaN              NaN   \n",
       "37787                            NaN  ...                NaN              NaN   \n",
       "37788                            NaN  ...                NaN              NaN   \n",
       "37789                            NaN  ...                NaN              NaN   \n",
       "37790                            NaN  ...                NaN              NaN   \n",
       "\n",
       "       Life_expectancy_at_birth  \\\n",
       "0                        50.331   \n",
       "1                        50.999   \n",
       "2                        51.641   \n",
       "3                        52.256   \n",
       "4                        52.842   \n",
       "...                         ...   \n",
       "37786                       NaN   \n",
       "37787                       NaN   \n",
       "37788                       NaN   \n",
       "37789                       NaN   \n",
       "37790                       NaN   \n",
       "\n",
       "       Share_of_population_below_poverty_line_2USD_per_day  \\\n",
       "0                                                    0.0     \n",
       "1                                                    0.0     \n",
       "2                                                    0.0     \n",
       "3                                                    0.0     \n",
       "4                                                    0.0     \n",
       "...                                                  ...     \n",
       "37786                                                NaN     \n",
       "37787                                                NaN     \n",
       "37788                                                NaN     \n",
       "37789                                                NaN     \n",
       "37790                                                NaN     \n",
       "\n",
       "       Total_life_expectancy_at_birth_in_years  Total_population  \\\n",
       "0                                       50.331        12412311.0   \n",
       "1                                       50.999        13299016.0   \n",
       "2                                       51.641        14485543.0   \n",
       "3                                       52.256        15816601.0   \n",
       "4                                       52.842        17075728.0   \n",
       "...                                        ...               ...   \n",
       "37786                                      NaN               NaN   \n",
       "37787                                      NaN               NaN   \n",
       "37788                                      NaN               NaN   \n",
       "37789                                      NaN               NaN   \n",
       "37790                                      NaN               NaN   \n",
       "\n",
       "       Human_development_index  Mortality_rate_under_5_per_1000_live_births  \\\n",
       "0                          NaN                                        17.77   \n",
       "1                          NaN                                        17.17   \n",
       "2                          NaN                                        16.59   \n",
       "3                          NaN                                        16.04   \n",
       "4                          NaN                                        15.52   \n",
       "...                        ...                                          ...   \n",
       "37786                      NaN                                          NaN   \n",
       "37787                      NaN                                          NaN   \n",
       "37788                      NaN                                          NaN   \n",
       "37789                      NaN                                          NaN   \n",
       "37790                      NaN                                          NaN   \n",
       "\n",
       "       Suicidy_mortality_rate_per_100000_population  Annual_CO2_emissions  \n",
       "0                                               NaN          2.603238e+06  \n",
       "1                                               NaN          2.427366e+06  \n",
       "2                                               NaN          1.379462e+06  \n",
       "3                                               NaN          1.333055e+06  \n",
       "4                                               NaN          1.281602e+06  \n",
       "...                                             ...                   ...  \n",
       "37786                                           NaN          1.485281e+09  \n",
       "37787                                           NaN          1.533711e+09  \n",
       "37788                                           NaN          1.606311e+09  \n",
       "37789                                           NaN          1.694277e+09  \n",
       "37790                                           NaN          1.850906e+09  \n",
       "\n",
       "[36271 rows x 46 columns]"
      ]
     },
     "execution_count": 25,
     "metadata": {},
     "output_type": "execute_result"
    }
   ],
   "source": [
    "df[df.isna().any(axis=1)]"
   ]
  },
  {
   "cell_type": "code",
   "execution_count": 26,
   "id": "f70106c8-e54e-43ca-a68f-7832fd9671ca",
   "metadata": {},
   "outputs": [
    {
     "name": "stdout",
     "output_type": "stream",
     "text": [
      "<class 'pandas.core.frame.DataFrame'>\n",
      "Int64Index: 37791 entries, 0 to 37790\n",
      "Data columns (total 46 columns):\n",
      " #   Column                                                 Non-Null Count  Dtype  \n",
      "---  ------                                                 --------------  -----  \n",
      " 0   Country                                                37791 non-null  object \n",
      " 1   Year                                                   37791 non-null  int64  \n",
      " 2   Deaths_meningitis                                      6686 non-null   float64\n",
      " 3   Deaths_lower_respiratory_infections                    6686 non-null   float64\n",
      " 4   Deaths_intestinal_infectious_diseases                  6686 non-null   float64\n",
      " 5   Deaths_protein_energy_malnutrition                     6686 non-null   float64\n",
      " 6   Terrorism                                              6686 non-null   float64\n",
      " 7   Deaths_cardiovascular_diseases                         6686 non-null   float64\n",
      " 8   Deaths_alzheimer_disease_and_other_dementias           6686 non-null   float64\n",
      " 9   Deaths_chronic_kidney_disease                          6686 non-null   float64\n",
      " 10  Deaths_chronic_respiratory_diseases                    6686 non-null   float64\n",
      " 11  Deaths_cirrhosis_and_other_chronic_liver_diseases      6686 non-null   float64\n",
      " 12  Deaths_digestive_diseases                              6686 non-null   float64\n",
      " 13  Deaths_hepatitis                                       6686 non-null   float64\n",
      " 14  Deaths_neoplasms                                       6686 non-null   float64\n",
      " 15  Deaths_parkinson_disease                               6686 non-null   float64\n",
      " 16  Deaths_by_fire_and_heat                                6686 non-null   float64\n",
      " 17  Deaths_malaria                                         6686 non-null   float64\n",
      " 18  Deaths_drowning                                        6686 non-null   float64\n",
      " 19  Deaths_interpersonal_violence                          6686 non-null   float64\n",
      " 20  Deaths_aids                                            6686 non-null   float64\n",
      " 21  Deaths_drug_use_disorders                              6686 non-null   float64\n",
      " 22  Deaths_tuberculosis                                    6686 non-null   float64\n",
      " 23  Deaths_road_injuries                                   6686 non-null   float64\n",
      " 24  Deaths_maternal_disorders                              6686 non-null   float64\n",
      " 25  Deaths_neonatal_disorders                              6686 non-null   float64\n",
      " 26  Deaths_alcohol_use_disorders                           6686 non-null   float64\n",
      " 27  Deaths_exposure_to_forces_of_nature                    6686 non-null   float64\n",
      " 28  Deaths_diarrheal_diseases                              6686 non-null   float64\n",
      " 29  Deaths_environmental_heat_and_cold_exposure            6686 non-null   float64\n",
      " 30  Deaths_nutritional_deficiencies                        6686 non-null   float64\n",
      " 31  Deaths_self_harm                                       6686 non-null   float64\n",
      " 32  Deaths_conflict_and_terrorism                          6686 non-null   float64\n",
      " 33  Deaths_diabetes_mellitus                               6686 non-null   float64\n",
      " 34  Deaths_poisonings                                      6686 non-null   float64\n",
      " 35  Average_total_years_of_schooling_for_adult_population  7777 non-null   float64\n",
      " 36  Life_satisfaction                                      1956 non-null   float64\n",
      " 37  Life_expectancy                                        19049 non-null  float64\n",
      " 38  Life_expectancy_at_birth                               14631 non-null  float64\n",
      " 39  Share_of_population_below_poverty_line_2USD_per_day    31127 non-null  float64\n",
      " 40  Total_life_expectancy_at_birth_in_years                31127 non-null  float64\n",
      " 41  Total_population                                       31127 non-null  float64\n",
      " 42  Human_development_index                                5015 non-null   float64\n",
      " 43  Mortality_rate_under_5_per_1000_live_births            11966 non-null  float64\n",
      " 44  Suicidy_mortality_rate_per_100000_population           4634 non-null   float64\n",
      " 45  Annual_CO2_emissions                                   23970 non-null  float64\n",
      "dtypes: float64(44), int64(1), object(1)\n",
      "memory usage: 13.6+ MB\n"
     ]
    }
   ],
   "source": [
    "df.info()"
   ]
  },
  {
   "cell_type": "code",
   "execution_count": 27,
   "id": "74aa1ac4-c7f9-4c9a-9645-271e4f70822e",
   "metadata": {},
   "outputs": [
    {
     "data": {
      "text/plain": [
       "0        1990\n",
       "1        1991\n",
       "2        1992\n",
       "3        1993\n",
       "4        1994\n",
       "         ... \n",
       "37786    1895\n",
       "37787    1896\n",
       "37788    1897\n",
       "37789    1898\n",
       "37790    1899\n",
       "Name: Year, Length: 37791, dtype: int64"
      ]
     },
     "execution_count": 27,
     "metadata": {},
     "output_type": "execute_result"
    }
   ],
   "source": [
    "df[\"Year\"]\n",
    "#df.dropna(inplace = True)"
   ]
  },
  {
   "cell_type": "code",
   "execution_count": 28,
   "id": "dca4c5ac-f794-4d2c-b8aa-06419bdd2f58",
   "metadata": {},
   "outputs": [
    {
     "data": {
      "text/plain": [
       "Country                                                   object\n",
       "Year                                                       int64\n",
       "Deaths_meningitis                                        float64\n",
       "Deaths_lower_respiratory_infections                      float64\n",
       "Deaths_intestinal_infectious_diseases                    float64\n",
       "Deaths_protein_energy_malnutrition                       float64\n",
       "Terrorism                                                float64\n",
       "Deaths_cardiovascular_diseases                           float64\n",
       "Deaths_alzheimer_disease_and_other_dementias             float64\n",
       "Deaths_chronic_kidney_disease                            float64\n",
       "Deaths_chronic_respiratory_diseases                      float64\n",
       "Deaths_cirrhosis_and_other_chronic_liver_diseases        float64\n",
       "Deaths_digestive_diseases                                float64\n",
       "Deaths_hepatitis                                         float64\n",
       "Deaths_neoplasms                                         float64\n",
       "Deaths_parkinson_disease                                 float64\n",
       "Deaths_by_fire_and_heat                                  float64\n",
       "Deaths_malaria                                           float64\n",
       "Deaths_drowning                                          float64\n",
       "Deaths_interpersonal_violence                            float64\n",
       "Deaths_aids                                              float64\n",
       "Deaths_drug_use_disorders                                float64\n",
       "Deaths_tuberculosis                                      float64\n",
       "Deaths_road_injuries                                     float64\n",
       "Deaths_maternal_disorders                                float64\n",
       "Deaths_neonatal_disorders                                float64\n",
       "Deaths_alcohol_use_disorders                             float64\n",
       "Deaths_exposure_to_forces_of_nature                      float64\n",
       "Deaths_diarrheal_diseases                                float64\n",
       "Deaths_environmental_heat_and_cold_exposure              float64\n",
       "Deaths_nutritional_deficiencies                          float64\n",
       "Deaths_self_harm                                         float64\n",
       "Deaths_conflict_and_terrorism                            float64\n",
       "Deaths_diabetes_mellitus                                 float64\n",
       "Deaths_poisonings                                        float64\n",
       "Average_total_years_of_schooling_for_adult_population    float64\n",
       "Life_satisfaction                                        float64\n",
       "Life_expectancy                                          float64\n",
       "Life_expectancy_at_birth                                 float64\n",
       "Share_of_population_below_poverty_line_2USD_per_day      float64\n",
       "Total_life_expectancy_at_birth_in_years                  float64\n",
       "Total_population                                         float64\n",
       "Human_development_index                                  float64\n",
       "Mortality_rate_under_5_per_1000_live_births              float64\n",
       "Suicidy_mortality_rate_per_100000_population             float64\n",
       "Annual_CO2_emissions                                     float64\n",
       "dtype: object"
      ]
     },
     "execution_count": 28,
     "metadata": {},
     "output_type": "execute_result"
    }
   ],
   "source": [
    "df.dtypes"
   ]
  },
  {
   "cell_type": "code",
   "execution_count": 31,
   "id": "a251d9d1-6225-4e5f-a6b9-9e88e6ba1044",
   "metadata": {},
   "outputs": [],
   "source": [
    "from sqlalchemy import create_engine\n",
    "\n",
    "engine = create_engine(\"sqlite:///deadline_database_nonans_geo.db\", echo=True)\n",
    "sqlite_connection = engine.connect()\n",
    "\n",
    "sqlite_table = \"Deadline_database\"\n",
    "\n",
    "df.to_sql(sqlite_table, sqlite_connection, if_exists=\"replace\")\n",
    "\n",
    "# close connection to DB\n",
    "sqlite_connection.close()"
   ]
  },
  {
   "cell_type": "code",
   "execution_count": 32,
   "id": "cfa3b897-c69b-4346-9d8d-b9fb65ed6fe2",
   "metadata": {},
   "outputs": [],
   "source": [
    "from pycountry import countries"
   ]
  },
  {
   "cell_type": "code",
   "execution_count": 33,
   "id": "37883682-656c-4a04-9678-ac6b05d3fa8a",
   "metadata": {},
   "outputs": [
    {
     "data": {
      "text/plain": [
       "'CAN'"
      ]
     },
     "execution_count": 33,
     "metadata": {},
     "output_type": "execute_result"
    }
   ],
   "source": [
    "countries.lookup(\"Canada\").alpha_3"
   ]
  },
  {
   "cell_type": "code",
   "execution_count": 36,
   "id": "21d3bc79-05a3-4534-8f74-7a9064bd7cef",
   "metadata": {},
   "outputs": [
    {
     "data": {
      "text/plain": [
       "<pycountry.ExistingCountries at 0x7fa3a30b66a0>"
      ]
     },
     "execution_count": 36,
     "metadata": {},
     "output_type": "execute_result"
    }
   ],
   "source": [
    "countries"
   ]
  },
  {
   "cell_type": "code",
   "execution_count": 41,
   "id": "da28c63d-1561-4316-bbf3-f03c4024ff3b",
   "metadata": {},
   "outputs": [
    {
     "data": {
      "text/plain": [
       "array(['Afghanistan', 'Albania', 'Algeria', 'American Samoa',\n",
       "       'Andean Latin America', 'Andorra', 'Angola', 'Antigua and Barbuda',\n",
       "       'Argentina', 'Armenia', 'Australasia', 'Australasia & Oceania',\n",
       "       'Australia', 'Austria', 'Azerbaijan', 'Bahamas', 'Bahrain',\n",
       "       'Bangladesh', 'Barbados', 'Belarus', 'Belgium', 'Belize', 'Benin',\n",
       "       'Bermuda', 'Bhutan', 'Bolivia', 'Bosnia and Herzegovina',\n",
       "       'Botswana', 'Brazil', 'Brunei', 'Bulgaria', 'Burkina Faso',\n",
       "       'Burundi', 'Cambodia', 'Cameroon', 'Canada', 'Cape Verde',\n",
       "       'Caribbean', 'Central African Republic',\n",
       "       'Central America & Caribbean', 'Central Asia', 'Central Europe',\n",
       "       'Central Europe, Eastern Europe, and Central Asia',\n",
       "       'Central Latin America', 'Central Sub-Saharan Africa', 'Chad',\n",
       "       'Chile', 'China', 'Colombia', 'Comoros', 'Congo', 'Costa Rica',\n",
       "       \"Cote d'Ivoire\", 'Croatia', 'Cuba', 'Cyprus', 'Czechia',\n",
       "       'Czechoslovakia', 'Democratic Republic of Congo', 'Denmark',\n",
       "       'Djibouti', 'Dominica', 'Dominican Republic', 'East Asia',\n",
       "       'East Germany (GDR)', 'East Timor', 'Eastern Europe',\n",
       "       'Eastern Sub-Saharan Africa', 'Ecuador', 'Egypt', 'El Salvador',\n",
       "       'England', 'Equatorial Guinea', 'Eritrea', 'Estonia', 'Eswatini',\n",
       "       'Ethiopia', 'Fiji', 'Finland', 'France', 'French Guiana',\n",
       "       'French Polynesia', 'Gabon', 'Gambia', 'Georgia', 'Germany',\n",
       "       'Ghana', 'Greece', 'Greenland', 'Grenada', 'Guadeloupe', 'Guam',\n",
       "       'Guatemala', 'Guinea', 'Guinea-Bissau', 'Guyana', 'Haiti',\n",
       "       'High SDI', 'High-income', 'High-income Asia Pacific',\n",
       "       'High-middle SDI', 'Honduras', 'Hong Kong', 'Hungary', 'Iceland',\n",
       "       'India', 'Indonesia', 'International', 'Iran', 'Iraq', 'Ireland',\n",
       "       'Israel', 'Italy', 'Jamaica', 'Japan', 'Jordan', 'Kazakhstan',\n",
       "       'Kenya', 'Kiribati', 'Kosovo', 'Kuwait', 'Kyrgyzstan', 'Laos',\n",
       "       'Latin America and Caribbean', 'Latvia', 'Lebanon', 'Lesotho',\n",
       "       'Liberia', 'Libya', 'Lithuania', 'Low SDI', 'Low-middle SDI',\n",
       "       'Luxembourg', 'Macau', 'Madagascar', 'Malawi', 'Malaysia',\n",
       "       'Maldives', 'Mali', 'Malta', 'Marshall Islands', 'Martinique',\n",
       "       'Mauritania', 'Mauritius', 'Mexico', 'Micronesia (country)',\n",
       "       'Middle East & North Africa', 'Middle SDI', 'Moldova', 'Mongolia',\n",
       "       'Montenegro', 'Morocco', 'Mozambique', 'Myanmar', 'Namibia',\n",
       "       'Nepal', 'Netherlands', 'New Caledonia', 'New Zealand',\n",
       "       'Nicaragua', 'Niger', 'Nigeria', 'North Africa and Middle East',\n",
       "       'North America', 'North Korea', 'North Macedonia',\n",
       "       'Northern Ireland', 'Northern Mariana Islands', 'Norway',\n",
       "       'Oceania', 'Oman', 'Pakistan', 'Palestine', 'Panama',\n",
       "       'Papua New Guinea', 'Paraguay', 'Peru', 'Philippines', 'Poland',\n",
       "       'Portugal', 'Puerto Rico', 'Qatar', 'Romania', 'Russia', 'Rwanda',\n",
       "       'Saint Kitts and Nevis', 'Saint Lucia',\n",
       "       'Saint Vincent and the Grenadines', 'Samoa',\n",
       "       'Sao Tome and Principe', 'Saudi Arabia', 'Scotland', 'Senegal',\n",
       "       'Serbia', 'Serbia-Montenegro', 'Seychelles', 'Sierra Leone',\n",
       "       'Singapore', 'Slovakia', 'Slovenia', 'Solomon Islands', 'Somalia',\n",
       "       'South Africa', 'South America', 'South Asia', 'South Korea',\n",
       "       'South Sudan', 'Southeast Asia',\n",
       "       'Southeast Asia, East Asia, and Oceania', 'Southern Latin America',\n",
       "       'Southern Sub-Saharan Africa', 'Spain', 'Sri Lanka',\n",
       "       'Sub-Saharan Africa', 'Sudan', 'Suriname', 'Sweden', 'Switzerland',\n",
       "       'Syria', 'Taiwan', 'Tajikistan', 'Tanzania', 'Thailand', 'Timor',\n",
       "       'Togo', 'Tonga', 'Trinidad and Tobago', 'Tropical Latin America',\n",
       "       'Tunisia', 'Turkey', 'Turkmenistan', 'USSR', 'Uganda', 'Ukraine',\n",
       "       'United Arab Emirates', 'United Kingdom', 'United States',\n",
       "       'United States Virgin Islands', 'Uruguay', 'Uzbekistan', 'Vanuatu',\n",
       "       'Venezuela', 'Vietnam', 'Wales', 'Wallis and Futuna',\n",
       "       'West Germany (FRG)', 'Western Europe', 'Western Sahara',\n",
       "       'Western Sub-Saharan Africa', 'World', 'World (excluding China)',\n",
       "       'Yemen', 'Yugoslavia', 'Zaire', 'Zambia', 'Zimbabwe',\n",
       "       'Liechtenstein', 'Macao', 'Palau', 'Reunion', 'Northern Cyprus',\n",
       "       'Somaliland region', 'Africa', 'Americas', 'Anguilla', 'Aruba',\n",
       "       'Asia', 'Bonaire Sint Eustatius and Saba',\n",
       "       'British Virgin Islands', 'Cayman Islands', 'Channel Islands',\n",
       "       'Cook Islands', 'Curacao', 'Europe', 'Faeroe Islands',\n",
       "       'Falkland Islands', 'Gibraltar', 'Isle of Man',\n",
       "       'Latin America and the Caribbean', 'Mayotte', 'Monaco',\n",
       "       'Montserrat', 'Nauru', 'Niue', 'Northern America',\n",
       "       'Saint Barthlemy', 'Saint Helena', 'Saint Martin (French part)',\n",
       "       'Saint Pierre and Miquelon', 'San Marino',\n",
       "       'Sint Maarten (Dutch part)', 'Tokelau', 'Turks and Caicos Islands',\n",
       "       'Tuvalu', 'Vatican', 'Africa Eastern and Southern',\n",
       "       'Africa Western and Central', 'Arab World',\n",
       "       'Caribbean Small States', 'Central Europe and the Baltics',\n",
       "       'Early-demographic dividend', 'East Asia & Pacific',\n",
       "       'East Asia & Pacific (IDA & IBRD)',\n",
       "       'East Asia & Pacific (excluding high income)', 'Euro area',\n",
       "       'Europe & Central Asia', 'Europe & Central Asia (IDA & IBRD)',\n",
       "       'Europe & Central Asia (excluding high income)', 'European Union',\n",
       "       'Fragile and conflict affected situations',\n",
       "       'Heavily indebted poor countries (HIPC)', 'High income',\n",
       "       'IBRD only', 'IDA & IBRD total', 'IDA blend', 'IDA only',\n",
       "       'IDA total', 'Late-demographic dividend',\n",
       "       'Latin America & Caribbean',\n",
       "       'Latin America & Caribbean (IDA & IBRD)',\n",
       "       'Latin America & Caribbean (excluding high income)',\n",
       "       'Least developed countries: UN classification',\n",
       "       'Low & middle income', 'Low income', 'Lower middle income',\n",
       "       'Middle East & North Africa (IDA & IBRD)',\n",
       "       'Middle East & North Africa (excluding high income)',\n",
       "       'Middle income', 'OECD members', 'Other small states',\n",
       "       'Pacific island small states', 'Post-demographic dividend',\n",
       "       'Pre-demographic dividend', 'Small states',\n",
       "       'South Asia (IDA & IBRD)', 'Sub-Saharan Africa (IDA & IBRD)',\n",
       "       'Sub-Saharan Africa (excluding high income)',\n",
       "       'Upper middle income', 'Abkhazia', 'Akrotiri and Dhekelia',\n",
       "       'Antarctica', 'Argentina (Urban)', 'Austria-Hungary', 'Baden',\n",
       "       'Bavaria', 'Bouvet Island', 'British Indian Ocean Territory',\n",
       "       'China (Rural)', 'China (Urban)', 'Christmas Island',\n",
       "       'Cocos Islands', 'East Asia and Pacific', 'East Germany',\n",
       "       'Eritrea and Ethiopia', 'Europe and Central Asia',\n",
       "       'French Southern Territories', 'Guernsey', 'Hanover',\n",
       "       'Heard Island and McDonald Islands', 'Hesse Electoral',\n",
       "       'Hesse Grand Ducal', 'India (Rural)', 'India (Urban)',\n",
       "       'Indonesia (Rural)', 'Indonesia (Urban)', 'Jersey',\n",
       "       'Mecklenburg Schwerin', 'Middle East and North Africa', 'Modena',\n",
       "       'Nagorno-Karabakh', 'Netherlands Antilles', 'Norfolk Island',\n",
       "       'Other high Income (World Bank)', 'Parma', 'Pitcairn',\n",
       "       'Republic of Vietnam', 'Saint Barthélemy', 'Saxony',\n",
       "       'Serbia and Montenegro', 'Serbia excluding Kosovo', 'Somaliland',\n",
       "       'South Georgia and the South Sandwich Islands', 'South Ossetia',\n",
       "       'Suriname (Urban)', 'Svalbard and Jan Mayen', 'Transnistria',\n",
       "       'Tuscany', 'Two Sicilies', 'United Korea',\n",
       "       'United States Minor Outlying Islands', 'West Germany',\n",
       "       'Wuerttemburg', 'Yemen Arab Republic', \"Yemen People's Republic\",\n",
       "       'Zanzibar', 'Åland Islands', 'Korea', 'Asia (excl. China & India)',\n",
       "       'EU-27', 'EU-28', 'Europe (excl. EU-27)', 'Europe (excl. EU-28)',\n",
       "       'French Equatorial Africa', 'French West Africa',\n",
       "       'International transport', 'Kuwaiti Oil Fires', 'Leeward Islands',\n",
       "       'North America (excl. USA)', 'Panama Canal Zone', 'Ryukyu Islands',\n",
       "       'St. Kitts-Nevis-Anguilla'], dtype=object)"
      ]
     },
     "execution_count": 41,
     "metadata": {},
     "output_type": "execute_result"
    }
   ],
   "source": [
    "df[\"Country\"].unique()"
   ]
  },
  {
   "cell_type": "code",
   "execution_count": 52,
   "id": "c74f682a-d8f2-4f36-82bc-84052bb7551d",
   "metadata": {},
   "outputs": [],
   "source": [
    "# if any of the items/country is in list, then temporary dataframe has data, copy to new df\n",
    "df2 = df[df[\"Country\"].isin(countrylist)]"
   ]
  },
  {
   "cell_type": "code",
   "execution_count": 53,
   "id": "661164f0-4a14-4bc6-9daa-d667e8ced44d",
   "metadata": {},
   "outputs": [
    {
     "data": {
      "text/plain": [
       "159"
      ]
     },
     "execution_count": 53,
     "metadata": {},
     "output_type": "execute_result"
    }
   ],
   "source": [
    "len(df2[\"Country\"].unique())"
   ]
  },
  {
   "cell_type": "code",
   "execution_count": 54,
   "id": "e5af37ec-f044-42c4-b748-9ab453c19721",
   "metadata": {},
   "outputs": [
    {
     "data": {
      "text/plain": [
       "<pycountry.ExistingCountries at 0x7fa3a30b66a0>"
      ]
     },
     "execution_count": 54,
     "metadata": {},
     "output_type": "execute_result"
    }
   ],
   "source": [
    "countries"
   ]
  },
  {
   "cell_type": "code",
   "execution_count": 74,
   "id": "c3d44eef-8a74-40ae-857d-62800da1d7bd",
   "metadata": {},
   "outputs": [
    {
     "name": "stderr",
     "output_type": "stream",
     "text": [
      "/tmp/ipykernel_85493/3046792879.py:3: SettingWithCopyWarning: \n",
      "A value is trying to be set on a copy of a slice from a DataFrame.\n",
      "Try using .loc[row_indexer,col_indexer] = value instead\n",
      "\n",
      "See the caveats in the documentation: https://pandas.pydata.org/pandas-docs/stable/user_guide/indexing.html#returning-a-view-versus-a-copy\n",
      "  df2[\"Country\"] = df2[\"Country\"].str.replace(\"Cote D'Ivoire\", \"Côte D'Ivoire\")\n"
     ]
    }
   ],
   "source": [
    "#df2[\"Country\"] = df2[\"Country\"].str.title()\n",
    "#df2[\"Country\"].unique()\n",
    "df2[\"Country\"] = df2[\"Country\"].str.replace(\"Cote D'Ivoire\", \"Côte D'Ivoire\")"
   ]
  },
  {
   "cell_type": "code",
   "execution_count": 76,
   "id": "d52e1228-abdd-4ac6-8d68-50ff65872165",
   "metadata": {},
   "outputs": [
    {
     "name": "stderr",
     "output_type": "stream",
     "text": [
      "/tmp/ipykernel_85493/2364609065.py:2: SettingWithCopyWarning: \n",
      "A value is trying to be set on a copy of a slice from a DataFrame.\n",
      "Try using .loc[row_indexer,col_indexer] = value instead\n",
      "\n",
      "See the caveats in the documentation: https://pandas.pydata.org/pandas-docs/stable/user_guide/indexing.html#returning-a-view-versus-a-copy\n",
      "  df2[\"Code\"] = countries.lookup(c).alpha_3\n"
     ]
    },
    {
     "ename": "LookupError",
     "evalue": "Could not find a record for 'democratic republic of congo'",
     "output_type": "error",
     "traceback": [
      "\u001b[0;31m---------------------------------------------------------------------------\u001b[0m",
      "\u001b[0;31mLookupError\u001b[0m                               Traceback (most recent call last)",
      "\u001b[0;32m/tmp/ipykernel_85493/2364609065.py\u001b[0m in \u001b[0;36m<module>\u001b[0;34m\u001b[0m\n\u001b[1;32m      1\u001b[0m \u001b[0;32mfor\u001b[0m \u001b[0mc\u001b[0m \u001b[0;32min\u001b[0m \u001b[0mdf2\u001b[0m\u001b[0;34m[\u001b[0m\u001b[0;34m\"Country\"\u001b[0m\u001b[0;34m]\u001b[0m\u001b[0;34m:\u001b[0m\u001b[0;34m\u001b[0m\u001b[0;34m\u001b[0m\u001b[0m\n\u001b[0;32m----> 2\u001b[0;31m     \u001b[0mdf2\u001b[0m\u001b[0;34m[\u001b[0m\u001b[0;34m\"Code\"\u001b[0m\u001b[0;34m]\u001b[0m \u001b[0;34m=\u001b[0m \u001b[0mcountries\u001b[0m\u001b[0;34m.\u001b[0m\u001b[0mlookup\u001b[0m\u001b[0;34m(\u001b[0m\u001b[0mc\u001b[0m\u001b[0;34m)\u001b[0m\u001b[0;34m.\u001b[0m\u001b[0malpha_3\u001b[0m\u001b[0;34m\u001b[0m\u001b[0;34m\u001b[0m\u001b[0m\n\u001b[0m",
      "\u001b[0;32m~/OSS/pywork/venvs/lifedata/lib/python3.8/site-packages/pycountry/db.py\u001b[0m in \u001b[0;36mload_if_needed\u001b[0;34m(self, *args, **kw)\u001b[0m\n\u001b[1;32m     39\u001b[0m             \u001b[0;32mwith\u001b[0m \u001b[0mself\u001b[0m\u001b[0;34m.\u001b[0m\u001b[0m_load_lock\u001b[0m\u001b[0;34m:\u001b[0m\u001b[0;34m\u001b[0m\u001b[0;34m\u001b[0m\u001b[0m\n\u001b[1;32m     40\u001b[0m                 \u001b[0mself\u001b[0m\u001b[0;34m.\u001b[0m\u001b[0m_load\u001b[0m\u001b[0;34m(\u001b[0m\u001b[0;34m)\u001b[0m\u001b[0;34m\u001b[0m\u001b[0;34m\u001b[0m\u001b[0m\n\u001b[0;32m---> 41\u001b[0;31m         \u001b[0;32mreturn\u001b[0m \u001b[0mf\u001b[0m\u001b[0;34m(\u001b[0m\u001b[0mself\u001b[0m\u001b[0;34m,\u001b[0m \u001b[0;34m*\u001b[0m\u001b[0margs\u001b[0m\u001b[0;34m,\u001b[0m \u001b[0;34m**\u001b[0m\u001b[0mkw\u001b[0m\u001b[0;34m)\u001b[0m\u001b[0;34m\u001b[0m\u001b[0;34m\u001b[0m\u001b[0m\n\u001b[0m\u001b[1;32m     42\u001b[0m     \u001b[0;32mreturn\u001b[0m \u001b[0mload_if_needed\u001b[0m\u001b[0;34m\u001b[0m\u001b[0;34m\u001b[0m\u001b[0m\n\u001b[1;32m     43\u001b[0m \u001b[0;34m\u001b[0m\u001b[0m\n",
      "\u001b[0;32m~/OSS/pywork/venvs/lifedata/lib/python3.8/site-packages/pycountry/db.py\u001b[0m in \u001b[0;36mlookup\u001b[0;34m(self, value)\u001b[0m\n\u001b[1;32m    144\u001b[0m                     \u001b[0;32mreturn\u001b[0m \u001b[0mcandidate\u001b[0m\u001b[0;34m\u001b[0m\u001b[0;34m\u001b[0m\u001b[0m\n\u001b[1;32m    145\u001b[0m \u001b[0;34m\u001b[0m\u001b[0m\n\u001b[0;32m--> 146\u001b[0;31m         \u001b[0;32mraise\u001b[0m \u001b[0mLookupError\u001b[0m\u001b[0;34m(\u001b[0m\u001b[0;34m'Could not find a record for %r'\u001b[0m \u001b[0;34m%\u001b[0m \u001b[0mvalue\u001b[0m\u001b[0;34m)\u001b[0m\u001b[0;34m\u001b[0m\u001b[0;34m\u001b[0m\u001b[0m\n\u001b[0m",
      "\u001b[0;31mLookupError\u001b[0m: Could not find a record for 'democratic republic of congo'"
     ]
    }
   ],
   "source": [
    "for c in df2[\"Country\"]:\n",
    "    df2[\"Code\"] = countries.lookup(c).alpha_3    "
   ]
  },
  {
   "cell_type": "code",
   "execution_count": 77,
   "id": "91b507ea-48cc-460e-9b1a-9f5005d6f610",
   "metadata": {},
   "outputs": [
    {
     "data": {
      "text/plain": [
       "[Country(alpha_2='CG', alpha_3='COG', name='Congo', numeric='178', official_name='Republic of the Congo'),\n",
       " Country(alpha_2='CD', alpha_3='COD', name='Congo, The Democratic Republic of the', numeric='180')]"
      ]
     },
     "execution_count": 77,
     "metadata": {},
     "output_type": "execute_result"
    }
   ],
   "source": [
    "countries.search_fuzzy(\"Congo\")"
   ]
  },
  {
   "cell_type": "code",
   "execution_count": 78,
   "id": "65fd8355-1d80-41dd-a694-b622ed5b111e",
   "metadata": {},
   "outputs": [
    {
     "name": "stderr",
     "output_type": "stream",
     "text": [
      "/tmp/ipykernel_85493/552642415.py:1: SettingWithCopyWarning: \n",
      "A value is trying to be set on a copy of a slice from a DataFrame.\n",
      "Try using .loc[row_indexer,col_indexer] = value instead\n",
      "\n",
      "See the caveats in the documentation: https://pandas.pydata.org/pandas-docs/stable/user_guide/indexing.html#returning-a-view-versus-a-copy\n",
      "  df2[\"Country\"] = df2[\"Country\"].str.replace(\"Democratic Republic Of Congo\", \"Congo, The Democratic Republic of the\")\n"
     ]
    }
   ],
   "source": [
    "df2[\"Country\"] = df2[\"Country\"].str.replace(\"Democratic Republic Of Congo\", \"Congo, The Democratic Republic of the\")"
   ]
  },
  {
   "cell_type": "code",
   "execution_count": 82,
   "id": "cf1b7935-fcf3-4490-907d-112b42de1873",
   "metadata": {},
   "outputs": [
    {
     "name": "stderr",
     "output_type": "stream",
     "text": [
      "/tmp/ipykernel_85493/621326385.py:1: SettingWithCopyWarning: \n",
      "A value is trying to be set on a copy of a slice from a DataFrame.\n",
      "Try using .loc[row_indexer,col_indexer] = value instead\n",
      "\n",
      "See the caveats in the documentation: https://pandas.pydata.org/pandas-docs/stable/user_guide/indexing.html#returning-a-view-versus-a-copy\n",
      "  df2[\"Country\"] = df2[\"Country\"].str.replace(\"Iran\", \"Iran, Islamic Republic of\")\n"
     ]
    }
   ],
   "source": [
    "df2[\"Country\"] = df2[\"Country\"].str.replace(\"Iran\", \"Iran, Islamic Republic of\")"
   ]
  },
  {
   "cell_type": "code",
   "execution_count": 95,
   "id": "e9e529e0-1999-4a37-a7e3-d3def0e0d7cf",
   "metadata": {},
   "outputs": [
    {
     "name": "stderr",
     "output_type": "stream",
     "text": [
      "/tmp/ipykernel_85493/1747223804.py:1: SettingWithCopyWarning: \n",
      "A value is trying to be set on a copy of a slice from a DataFrame.\n",
      "Try using .loc[row_indexer,col_indexer] = value instead\n",
      "\n",
      "See the caveats in the documentation: https://pandas.pydata.org/pandas-docs/stable/user_guide/indexing.html#returning-a-view-versus-a-copy\n",
      "  df2[\"Country\"] = df2[\"Country\"].str.replace(\"Laos\", \"Lao\")\n"
     ]
    }
   ],
   "source": [
    "df2[\"Country\"] = df2[\"Country\"].str.replace(\"Laos\", \"Lao\")"
   ]
  },
  {
   "cell_type": "code",
   "execution_count": 96,
   "id": "8503693b-b915-4896-bb67-d33ee61db6ac",
   "metadata": {},
   "outputs": [
    {
     "name": "stderr",
     "output_type": "stream",
     "text": [
      "/tmp/ipykernel_85493/2364609065.py:2: SettingWithCopyWarning: \n",
      "A value is trying to be set on a copy of a slice from a DataFrame.\n",
      "Try using .loc[row_indexer,col_indexer] = value instead\n",
      "\n",
      "See the caveats in the documentation: https://pandas.pydata.org/pandas-docs/stable/user_guide/indexing.html#returning-a-view-versus-a-copy\n",
      "  df2[\"Code\"] = countries.lookup(c).alpha_3\n"
     ]
    },
    {
     "ename": "LookupError",
     "evalue": "Could not find a record for 'russia'",
     "output_type": "error",
     "traceback": [
      "\u001b[0;31m---------------------------------------------------------------------------\u001b[0m",
      "\u001b[0;31mLookupError\u001b[0m                               Traceback (most recent call last)",
      "\u001b[0;32m/tmp/ipykernel_85493/2364609065.py\u001b[0m in \u001b[0;36m<module>\u001b[0;34m\u001b[0m\n\u001b[1;32m      1\u001b[0m \u001b[0;32mfor\u001b[0m \u001b[0mc\u001b[0m \u001b[0;32min\u001b[0m \u001b[0mdf2\u001b[0m\u001b[0;34m[\u001b[0m\u001b[0;34m\"Country\"\u001b[0m\u001b[0;34m]\u001b[0m\u001b[0;34m:\u001b[0m\u001b[0;34m\u001b[0m\u001b[0;34m\u001b[0m\u001b[0m\n\u001b[0;32m----> 2\u001b[0;31m     \u001b[0mdf2\u001b[0m\u001b[0;34m[\u001b[0m\u001b[0;34m\"Code\"\u001b[0m\u001b[0;34m]\u001b[0m \u001b[0;34m=\u001b[0m \u001b[0mcountries\u001b[0m\u001b[0;34m.\u001b[0m\u001b[0mlookup\u001b[0m\u001b[0;34m(\u001b[0m\u001b[0mc\u001b[0m\u001b[0;34m)\u001b[0m\u001b[0;34m.\u001b[0m\u001b[0malpha_3\u001b[0m\u001b[0;34m\u001b[0m\u001b[0;34m\u001b[0m\u001b[0m\n\u001b[0m",
      "\u001b[0;32m~/OSS/pywork/venvs/lifedata/lib/python3.8/site-packages/pycountry/db.py\u001b[0m in \u001b[0;36mload_if_needed\u001b[0;34m(self, *args, **kw)\u001b[0m\n\u001b[1;32m     39\u001b[0m             \u001b[0;32mwith\u001b[0m \u001b[0mself\u001b[0m\u001b[0;34m.\u001b[0m\u001b[0m_load_lock\u001b[0m\u001b[0;34m:\u001b[0m\u001b[0;34m\u001b[0m\u001b[0;34m\u001b[0m\u001b[0m\n\u001b[1;32m     40\u001b[0m                 \u001b[0mself\u001b[0m\u001b[0;34m.\u001b[0m\u001b[0m_load\u001b[0m\u001b[0;34m(\u001b[0m\u001b[0;34m)\u001b[0m\u001b[0;34m\u001b[0m\u001b[0;34m\u001b[0m\u001b[0m\n\u001b[0;32m---> 41\u001b[0;31m         \u001b[0;32mreturn\u001b[0m \u001b[0mf\u001b[0m\u001b[0;34m(\u001b[0m\u001b[0mself\u001b[0m\u001b[0;34m,\u001b[0m \u001b[0;34m*\u001b[0m\u001b[0margs\u001b[0m\u001b[0;34m,\u001b[0m \u001b[0;34m**\u001b[0m\u001b[0mkw\u001b[0m\u001b[0;34m)\u001b[0m\u001b[0;34m\u001b[0m\u001b[0;34m\u001b[0m\u001b[0m\n\u001b[0m\u001b[1;32m     42\u001b[0m     \u001b[0;32mreturn\u001b[0m \u001b[0mload_if_needed\u001b[0m\u001b[0;34m\u001b[0m\u001b[0;34m\u001b[0m\u001b[0m\n\u001b[1;32m     43\u001b[0m \u001b[0;34m\u001b[0m\u001b[0m\n",
      "\u001b[0;32m~/OSS/pywork/venvs/lifedata/lib/python3.8/site-packages/pycountry/db.py\u001b[0m in \u001b[0;36mlookup\u001b[0;34m(self, value)\u001b[0m\n\u001b[1;32m    144\u001b[0m                     \u001b[0;32mreturn\u001b[0m \u001b[0mcandidate\u001b[0m\u001b[0;34m\u001b[0m\u001b[0;34m\u001b[0m\u001b[0m\n\u001b[1;32m    145\u001b[0m \u001b[0;34m\u001b[0m\u001b[0m\n\u001b[0;32m--> 146\u001b[0;31m         \u001b[0;32mraise\u001b[0m \u001b[0mLookupError\u001b[0m\u001b[0;34m(\u001b[0m\u001b[0;34m'Could not find a record for %r'\u001b[0m \u001b[0;34m%\u001b[0m \u001b[0mvalue\u001b[0m\u001b[0;34m)\u001b[0m\u001b[0;34m\u001b[0m\u001b[0;34m\u001b[0m\u001b[0m\n\u001b[0m",
      "\u001b[0;31mLookupError\u001b[0m: Could not find a record for 'russia'"
     ]
    }
   ],
   "source": [
    "for c in df2[\"Country\"]:\n",
    "    df2[\"Code\"] = countries.lookup(c).alpha_3    "
   ]
  },
  {
   "cell_type": "code",
   "execution_count": 99,
   "id": "3fff47a3-7c3b-4d00-8cfe-5a7f92ae1e36",
   "metadata": {},
   "outputs": [
    {
     "data": {
      "text/plain": [
       "[Country(alpha_2='RU', alpha_3='RUS', name='Russian Federation', numeric='643')]"
      ]
     },
     "execution_count": 99,
     "metadata": {},
     "output_type": "execute_result"
    }
   ],
   "source": [
    "countries.search_fuzzy(\"Russia\")"
   ]
  },
  {
   "cell_type": "code",
   "execution_count": 100,
   "id": "82e6e881-375c-42ea-948b-24c99541d2ab",
   "metadata": {},
   "outputs": [
    {
     "name": "stderr",
     "output_type": "stream",
     "text": [
      "/tmp/ipykernel_85493/3469523331.py:1: SettingWithCopyWarning: \n",
      "A value is trying to be set on a copy of a slice from a DataFrame.\n",
      "Try using .loc[row_indexer,col_indexer] = value instead\n",
      "\n",
      "See the caveats in the documentation: https://pandas.pydata.org/pandas-docs/stable/user_guide/indexing.html#returning-a-view-versus-a-copy\n",
      "  df2[\"Country\"] = df2[\"Country\"].str.replace(\"Russia\", \"Russian Federation\")\n"
     ]
    }
   ],
   "source": [
    "df2[\"Country\"] = df2[\"Country\"].str.replace(\"Russia\", \"Russian Federation\")"
   ]
  },
  {
   "cell_type": "code",
   "execution_count": 101,
   "id": "e1863a02-dd24-4ee7-bac3-d33b493030ea",
   "metadata": {},
   "outputs": [
    {
     "name": "stderr",
     "output_type": "stream",
     "text": [
      "/tmp/ipykernel_85493/2364609065.py:2: SettingWithCopyWarning: \n",
      "A value is trying to be set on a copy of a slice from a DataFrame.\n",
      "Try using .loc[row_indexer,col_indexer] = value instead\n",
      "\n",
      "See the caveats in the documentation: https://pandas.pydata.org/pandas-docs/stable/user_guide/indexing.html#returning-a-view-versus-a-copy\n",
      "  df2[\"Code\"] = countries.lookup(c).alpha_3\n"
     ]
    },
    {
     "ename": "LookupError",
     "evalue": "Could not find a record for 'south korea'",
     "output_type": "error",
     "traceback": [
      "\u001b[0;31m---------------------------------------------------------------------------\u001b[0m",
      "\u001b[0;31mLookupError\u001b[0m                               Traceback (most recent call last)",
      "\u001b[0;32m/tmp/ipykernel_85493/2364609065.py\u001b[0m in \u001b[0;36m<module>\u001b[0;34m\u001b[0m\n\u001b[1;32m      1\u001b[0m \u001b[0;32mfor\u001b[0m \u001b[0mc\u001b[0m \u001b[0;32min\u001b[0m \u001b[0mdf2\u001b[0m\u001b[0;34m[\u001b[0m\u001b[0;34m\"Country\"\u001b[0m\u001b[0;34m]\u001b[0m\u001b[0;34m:\u001b[0m\u001b[0;34m\u001b[0m\u001b[0;34m\u001b[0m\u001b[0m\n\u001b[0;32m----> 2\u001b[0;31m     \u001b[0mdf2\u001b[0m\u001b[0;34m[\u001b[0m\u001b[0;34m\"Code\"\u001b[0m\u001b[0;34m]\u001b[0m \u001b[0;34m=\u001b[0m \u001b[0mcountries\u001b[0m\u001b[0;34m.\u001b[0m\u001b[0mlookup\u001b[0m\u001b[0;34m(\u001b[0m\u001b[0mc\u001b[0m\u001b[0;34m)\u001b[0m\u001b[0;34m.\u001b[0m\u001b[0malpha_3\u001b[0m\u001b[0;34m\u001b[0m\u001b[0;34m\u001b[0m\u001b[0m\n\u001b[0m",
      "\u001b[0;32m~/OSS/pywork/venvs/lifedata/lib/python3.8/site-packages/pycountry/db.py\u001b[0m in \u001b[0;36mload_if_needed\u001b[0;34m(self, *args, **kw)\u001b[0m\n\u001b[1;32m     39\u001b[0m             \u001b[0;32mwith\u001b[0m \u001b[0mself\u001b[0m\u001b[0;34m.\u001b[0m\u001b[0m_load_lock\u001b[0m\u001b[0;34m:\u001b[0m\u001b[0;34m\u001b[0m\u001b[0;34m\u001b[0m\u001b[0m\n\u001b[1;32m     40\u001b[0m                 \u001b[0mself\u001b[0m\u001b[0;34m.\u001b[0m\u001b[0m_load\u001b[0m\u001b[0;34m(\u001b[0m\u001b[0;34m)\u001b[0m\u001b[0;34m\u001b[0m\u001b[0;34m\u001b[0m\u001b[0m\n\u001b[0;32m---> 41\u001b[0;31m         \u001b[0;32mreturn\u001b[0m \u001b[0mf\u001b[0m\u001b[0;34m(\u001b[0m\u001b[0mself\u001b[0m\u001b[0;34m,\u001b[0m \u001b[0;34m*\u001b[0m\u001b[0margs\u001b[0m\u001b[0;34m,\u001b[0m \u001b[0;34m**\u001b[0m\u001b[0mkw\u001b[0m\u001b[0;34m)\u001b[0m\u001b[0;34m\u001b[0m\u001b[0;34m\u001b[0m\u001b[0m\n\u001b[0m\u001b[1;32m     42\u001b[0m     \u001b[0;32mreturn\u001b[0m \u001b[0mload_if_needed\u001b[0m\u001b[0;34m\u001b[0m\u001b[0;34m\u001b[0m\u001b[0m\n\u001b[1;32m     43\u001b[0m \u001b[0;34m\u001b[0m\u001b[0m\n",
      "\u001b[0;32m~/OSS/pywork/venvs/lifedata/lib/python3.8/site-packages/pycountry/db.py\u001b[0m in \u001b[0;36mlookup\u001b[0;34m(self, value)\u001b[0m\n\u001b[1;32m    144\u001b[0m                     \u001b[0;32mreturn\u001b[0m \u001b[0mcandidate\u001b[0m\u001b[0;34m\u001b[0m\u001b[0;34m\u001b[0m\u001b[0m\n\u001b[1;32m    145\u001b[0m \u001b[0;34m\u001b[0m\u001b[0m\n\u001b[0;32m--> 146\u001b[0;31m         \u001b[0;32mraise\u001b[0m \u001b[0mLookupError\u001b[0m\u001b[0;34m(\u001b[0m\u001b[0;34m'Could not find a record for %r'\u001b[0m \u001b[0;34m%\u001b[0m \u001b[0mvalue\u001b[0m\u001b[0;34m)\u001b[0m\u001b[0;34m\u001b[0m\u001b[0;34m\u001b[0m\u001b[0m\n\u001b[0m",
      "\u001b[0;31mLookupError\u001b[0m: Could not find a record for 'south korea'"
     ]
    }
   ],
   "source": [
    "for c in df2[\"Country\"]:\n",
    "    df2[\"Code\"] = countries.lookup(c).alpha_3    "
   ]
  },
  {
   "cell_type": "code",
   "execution_count": 103,
   "id": "57ca7678-6bba-4164-bcd9-035b4e2ebac2",
   "metadata": {},
   "outputs": [
    {
     "name": "stderr",
     "output_type": "stream",
     "text": [
      "/tmp/ipykernel_85493/2265738018.py:1: SettingWithCopyWarning: \n",
      "A value is trying to be set on a copy of a slice from a DataFrame.\n",
      "Try using .loc[row_indexer,col_indexer] = value instead\n",
      "\n",
      "See the caveats in the documentation: https://pandas.pydata.org/pandas-docs/stable/user_guide/indexing.html#returning-a-view-versus-a-copy\n",
      "  df2[\"Country\"] = df2[\"Country\"].str.replace(\"South Korea\", \"Korea, Republic of\")\n"
     ]
    }
   ],
   "source": [
    "df2[\"Country\"] = df2[\"Country\"].str.replace(\"South Korea\", \"Korea, Republic of\")"
   ]
  },
  {
   "cell_type": "code",
   "execution_count": 104,
   "id": "50088f30-b66c-46e9-9396-7d71ac19270a",
   "metadata": {},
   "outputs": [
    {
     "name": "stderr",
     "output_type": "stream",
     "text": [
      "/tmp/ipykernel_85493/2364609065.py:2: SettingWithCopyWarning: \n",
      "A value is trying to be set on a copy of a slice from a DataFrame.\n",
      "Try using .loc[row_indexer,col_indexer] = value instead\n",
      "\n",
      "See the caveats in the documentation: https://pandas.pydata.org/pandas-docs/stable/user_guide/indexing.html#returning-a-view-versus-a-copy\n",
      "  df2[\"Code\"] = countries.lookup(c).alpha_3\n"
     ]
    },
    {
     "ename": "LookupError",
     "evalue": "Could not find a record for 'syria'",
     "output_type": "error",
     "traceback": [
      "\u001b[0;31m---------------------------------------------------------------------------\u001b[0m",
      "\u001b[0;31mLookupError\u001b[0m                               Traceback (most recent call last)",
      "\u001b[0;32m/tmp/ipykernel_85493/2364609065.py\u001b[0m in \u001b[0;36m<module>\u001b[0;34m\u001b[0m\n\u001b[1;32m      1\u001b[0m \u001b[0;32mfor\u001b[0m \u001b[0mc\u001b[0m \u001b[0;32min\u001b[0m \u001b[0mdf2\u001b[0m\u001b[0;34m[\u001b[0m\u001b[0;34m\"Country\"\u001b[0m\u001b[0;34m]\u001b[0m\u001b[0;34m:\u001b[0m\u001b[0;34m\u001b[0m\u001b[0;34m\u001b[0m\u001b[0m\n\u001b[0;32m----> 2\u001b[0;31m     \u001b[0mdf2\u001b[0m\u001b[0;34m[\u001b[0m\u001b[0;34m\"Code\"\u001b[0m\u001b[0;34m]\u001b[0m \u001b[0;34m=\u001b[0m \u001b[0mcountries\u001b[0m\u001b[0;34m.\u001b[0m\u001b[0mlookup\u001b[0m\u001b[0;34m(\u001b[0m\u001b[0mc\u001b[0m\u001b[0;34m)\u001b[0m\u001b[0;34m.\u001b[0m\u001b[0malpha_3\u001b[0m\u001b[0;34m\u001b[0m\u001b[0;34m\u001b[0m\u001b[0m\n\u001b[0m",
      "\u001b[0;32m~/OSS/pywork/venvs/lifedata/lib/python3.8/site-packages/pycountry/db.py\u001b[0m in \u001b[0;36mload_if_needed\u001b[0;34m(self, *args, **kw)\u001b[0m\n\u001b[1;32m     39\u001b[0m             \u001b[0;32mwith\u001b[0m \u001b[0mself\u001b[0m\u001b[0;34m.\u001b[0m\u001b[0m_load_lock\u001b[0m\u001b[0;34m:\u001b[0m\u001b[0;34m\u001b[0m\u001b[0;34m\u001b[0m\u001b[0m\n\u001b[1;32m     40\u001b[0m                 \u001b[0mself\u001b[0m\u001b[0;34m.\u001b[0m\u001b[0m_load\u001b[0m\u001b[0;34m(\u001b[0m\u001b[0;34m)\u001b[0m\u001b[0;34m\u001b[0m\u001b[0;34m\u001b[0m\u001b[0m\n\u001b[0;32m---> 41\u001b[0;31m         \u001b[0;32mreturn\u001b[0m \u001b[0mf\u001b[0m\u001b[0;34m(\u001b[0m\u001b[0mself\u001b[0m\u001b[0;34m,\u001b[0m \u001b[0;34m*\u001b[0m\u001b[0margs\u001b[0m\u001b[0;34m,\u001b[0m \u001b[0;34m**\u001b[0m\u001b[0mkw\u001b[0m\u001b[0;34m)\u001b[0m\u001b[0;34m\u001b[0m\u001b[0;34m\u001b[0m\u001b[0m\n\u001b[0m\u001b[1;32m     42\u001b[0m     \u001b[0;32mreturn\u001b[0m \u001b[0mload_if_needed\u001b[0m\u001b[0;34m\u001b[0m\u001b[0;34m\u001b[0m\u001b[0m\n\u001b[1;32m     43\u001b[0m \u001b[0;34m\u001b[0m\u001b[0m\n",
      "\u001b[0;32m~/OSS/pywork/venvs/lifedata/lib/python3.8/site-packages/pycountry/db.py\u001b[0m in \u001b[0;36mlookup\u001b[0;34m(self, value)\u001b[0m\n\u001b[1;32m    144\u001b[0m                     \u001b[0;32mreturn\u001b[0m \u001b[0mcandidate\u001b[0m\u001b[0;34m\u001b[0m\u001b[0;34m\u001b[0m\u001b[0m\n\u001b[1;32m    145\u001b[0m \u001b[0;34m\u001b[0m\u001b[0m\n\u001b[0;32m--> 146\u001b[0;31m         \u001b[0;32mraise\u001b[0m \u001b[0mLookupError\u001b[0m\u001b[0;34m(\u001b[0m\u001b[0;34m'Could not find a record for %r'\u001b[0m \u001b[0;34m%\u001b[0m \u001b[0mvalue\u001b[0m\u001b[0;34m)\u001b[0m\u001b[0;34m\u001b[0m\u001b[0;34m\u001b[0m\u001b[0m\n\u001b[0m",
      "\u001b[0;31mLookupError\u001b[0m: Could not find a record for 'syria'"
     ]
    }
   ],
   "source": [
    "for c in df2[\"Country\"]:\n",
    "    df2[\"Code\"] = countries.lookup(c).alpha_3    "
   ]
  },
  {
   "cell_type": "code",
   "execution_count": 105,
   "id": "fa8b1756-b20e-4187-83e2-0ab295f77392",
   "metadata": {},
   "outputs": [
    {
     "data": {
      "text/plain": [
       "[Country(alpha_2='SY', alpha_3='SYR', name='Syrian Arab Republic', numeric='760')]"
      ]
     },
     "execution_count": 105,
     "metadata": {},
     "output_type": "execute_result"
    }
   ],
   "source": [
    "countries.search_fuzzy(\"Syria\")"
   ]
  },
  {
   "cell_type": "code",
   "execution_count": 106,
   "id": "be24850a-fafe-4419-85b0-db5590f20573",
   "metadata": {},
   "outputs": [
    {
     "name": "stderr",
     "output_type": "stream",
     "text": [
      "/tmp/ipykernel_85493/522305821.py:1: SettingWithCopyWarning: \n",
      "A value is trying to be set on a copy of a slice from a DataFrame.\n",
      "Try using .loc[row_indexer,col_indexer] = value instead\n",
      "\n",
      "See the caveats in the documentation: https://pandas.pydata.org/pandas-docs/stable/user_guide/indexing.html#returning-a-view-versus-a-copy\n",
      "  df2[\"Country\"] = df2[\"Country\"].str.replace(\"Syria\", \"Syrian Arab Republic\")\n"
     ]
    }
   ],
   "source": [
    "df2[\"Country\"] = df2[\"Country\"].str.replace(\"Syria\", \"Syrian Arab Republic\")"
   ]
  },
  {
   "cell_type": "code",
   "execution_count": 113,
   "id": "020d0147-c1b6-403e-a734-2a3eb0deb13e",
   "metadata": {},
   "outputs": [
    {
     "name": "stderr",
     "output_type": "stream",
     "text": [
      "/tmp/ipykernel_85493/803796691.py:2: SettingWithCopyWarning: \n",
      "A value is trying to be set on a copy of a slice from a DataFrame.\n",
      "Try using .loc[row_indexer,col_indexer] = value instead\n",
      "\n",
      "See the caveats in the documentation: https://pandas.pydata.org/pandas-docs/stable/user_guide/indexing.html#returning-a-view-versus-a-copy\n",
      "  df2[\"Code2\"] = countries.lookup(c).alpha_2\n"
     ]
    }
   ],
   "source": [
    "for c in df2[\"Country\"]:\n",
    "    df2[\"Code2\"] = countries.lookup(c).alpha_2    "
   ]
  },
  {
   "cell_type": "code",
   "execution_count": 115,
   "id": "73d93b1c-50fd-453b-9b55-79477855b8b6",
   "metadata": {},
   "outputs": [],
   "source": [
    "from pycountry_convert import country_alpha2_to_continent_code, country_name_to_country_alpha2"
   ]
  },
  {
   "cell_type": "code",
   "execution_count": 119,
   "id": "af4fe120-38f4-4a62-81c7-c3e29948b38e",
   "metadata": {},
   "outputs": [
    {
     "name": "stderr",
     "output_type": "stream",
     "text": [
      "/tmp/ipykernel_85493/3759123311.py:2: SettingWithCopyWarning: \n",
      "A value is trying to be set on a copy of a slice from a DataFrame.\n",
      "Try using .loc[row_indexer,col_indexer] = value instead\n",
      "\n",
      "See the caveats in the documentation: https://pandas.pydata.org/pandas-docs/stable/user_guide/indexing.html#returning-a-view-versus-a-copy\n",
      "  df2[\"Continent\"] = country_alpha2_to_continent_code(c)\n"
     ]
    }
   ],
   "source": [
    "for c in df2[\"Code2\"]:\n",
    "    df2[\"Continent\"] = country_alpha2_to_continent_code(c)"
   ]
  },
  {
   "cell_type": "code",
   "execution_count": 120,
   "id": "29511965-d0da-4518-b8d5-634757efd7dd",
   "metadata": {},
   "outputs": [
    {
     "data": {
      "text/plain": [
       "Index(['Country', 'Year', 'Deaths_meningitis',\n",
       "       'Deaths_lower_respiratory_infections',\n",
       "       'Deaths_intestinal_infectious_diseases',\n",
       "       'Deaths_protein_energy_malnutrition', 'Terrorism',\n",
       "       'Deaths_cardiovascular_diseases',\n",
       "       'Deaths_alzheimer_disease_and_other_dementias',\n",
       "       'Deaths_chronic_kidney_disease', 'Deaths_chronic_respiratory_diseases',\n",
       "       'Deaths_cirrhosis_and_other_chronic_liver_diseases',\n",
       "       'Deaths_digestive_diseases', 'Deaths_hepatitis', 'Deaths_neoplasms',\n",
       "       'Deaths_parkinson_disease', 'Deaths_by_fire_and_heat', 'Deaths_malaria',\n",
       "       'Deaths_drowning', 'Deaths_interpersonal_violence', 'Deaths_aids',\n",
       "       'Deaths_drug_use_disorders', 'Deaths_tuberculosis',\n",
       "       'Deaths_road_injuries', 'Deaths_maternal_disorders',\n",
       "       'Deaths_neonatal_disorders', 'Deaths_alcohol_use_disorders',\n",
       "       'Deaths_exposure_to_forces_of_nature', 'Deaths_diarrheal_diseases',\n",
       "       'Deaths_environmental_heat_and_cold_exposure',\n",
       "       'Deaths_nutritional_deficiencies', 'Deaths_self_harm',\n",
       "       'Deaths_conflict_and_terrorism', 'Deaths_diabetes_mellitus',\n",
       "       'Deaths_poisonings',\n",
       "       'Average_total_years_of_schooling_for_adult_population',\n",
       "       'Life_satisfaction', 'Life_expectancy', 'Life_expectancy_at_birth',\n",
       "       'Share_of_population_below_poverty_line_2USD_per_day',\n",
       "       'Total_life_expectancy_at_birth_in_years', 'Total_population',\n",
       "       'Human_development_index',\n",
       "       'Mortality_rate_under_5_per_1000_live_births',\n",
       "       'Suicidy_mortality_rate_per_100000_population', 'Annual_CO2_emissions',\n",
       "       'Code', 'Code2', 'Continent'],\n",
       "      dtype='object')"
      ]
     },
     "execution_count": 120,
     "metadata": {},
     "output_type": "execute_result"
    }
   ],
   "source": [
    "df2.columns"
   ]
  },
  {
   "cell_type": "code",
   "execution_count": null,
   "id": "3904bc32-9b64-4929-a405-82c4ce31a996",
   "metadata": {},
   "outputs": [],
   "source": []
  },
  {
   "cell_type": "code",
   "execution_count": 121,
   "id": "07600042-efaf-4a42-a485-079c2383c6ed",
   "metadata": {},
   "outputs": [
    {
     "name": "stdout",
     "output_type": "stream",
     "text": [
      "2021-12-06 20:15:45,385 INFO sqlalchemy.engine.Engine PRAGMA main.table_info(\"Deadline_database\")\n",
      "2021-12-06 20:15:45,385 INFO sqlalchemy.engine.Engine [raw sql] ()\n",
      "2021-12-06 20:15:45,387 INFO sqlalchemy.engine.Engine PRAGMA main.table_info(\"Deadline_database\")\n",
      "2021-12-06 20:15:45,387 INFO sqlalchemy.engine.Engine [raw sql] ()\n",
      "2021-12-06 20:15:45,389 INFO sqlalchemy.engine.Engine SELECT name FROM sqlite_master WHERE type='table' ORDER BY name\n",
      "2021-12-06 20:15:45,390 INFO sqlalchemy.engine.Engine [raw sql] ()\n",
      "2021-12-06 20:15:45,391 INFO sqlalchemy.engine.Engine PRAGMA main.table_xinfo(\"Deadline_database\")\n",
      "2021-12-06 20:15:45,392 INFO sqlalchemy.engine.Engine [raw sql] ()\n",
      "2021-12-06 20:15:45,394 INFO sqlalchemy.engine.Engine SELECT sql FROM  (SELECT * FROM sqlite_master UNION ALL   SELECT * FROM sqlite_temp_master) WHERE name = ? AND type = 'table'\n",
      "2021-12-06 20:15:45,395 INFO sqlalchemy.engine.Engine [raw sql] ('Deadline_database',)\n",
      "2021-12-06 20:15:45,395 INFO sqlalchemy.engine.Engine PRAGMA main.foreign_key_list(\"Deadline_database\")\n",
      "2021-12-06 20:15:45,396 INFO sqlalchemy.engine.Engine [raw sql] ()\n",
      "2021-12-06 20:15:45,397 INFO sqlalchemy.engine.Engine PRAGMA temp.foreign_key_list(\"Deadline_database\")\n",
      "2021-12-06 20:15:45,398 INFO sqlalchemy.engine.Engine [raw sql] ()\n",
      "2021-12-06 20:15:45,398 INFO sqlalchemy.engine.Engine SELECT sql FROM  (SELECT * FROM sqlite_master UNION ALL   SELECT * FROM sqlite_temp_master) WHERE name = ? AND type = 'table'\n",
      "2021-12-06 20:15:45,399 INFO sqlalchemy.engine.Engine [raw sql] ('Deadline_database',)\n",
      "2021-12-06 20:15:45,399 INFO sqlalchemy.engine.Engine PRAGMA main.index_list(\"Deadline_database\")\n",
      "2021-12-06 20:15:45,400 INFO sqlalchemy.engine.Engine [raw sql] ()\n",
      "2021-12-06 20:15:45,400 INFO sqlalchemy.engine.Engine PRAGMA main.index_info(\"ix_Deadline_database_index\")\n",
      "2021-12-06 20:15:45,401 INFO sqlalchemy.engine.Engine [raw sql] ()\n",
      "2021-12-06 20:15:45,401 INFO sqlalchemy.engine.Engine PRAGMA main.index_list(\"Deadline_database\")\n",
      "2021-12-06 20:15:45,402 INFO sqlalchemy.engine.Engine [raw sql] ()\n",
      "2021-12-06 20:15:45,403 INFO sqlalchemy.engine.Engine PRAGMA main.index_info(\"ix_Deadline_database_index\")\n",
      "2021-12-06 20:15:45,403 INFO sqlalchemy.engine.Engine [raw sql] ()\n",
      "2021-12-06 20:15:45,404 INFO sqlalchemy.engine.Engine SELECT sql FROM  (SELECT * FROM sqlite_master UNION ALL   SELECT * FROM sqlite_temp_master) WHERE name = ? AND type = 'table'\n",
      "2021-12-06 20:15:45,405 INFO sqlalchemy.engine.Engine [raw sql] ('Deadline_database',)\n",
      "2021-12-06 20:15:45,407 INFO sqlalchemy.engine.Engine \n",
      "DROP TABLE \"Deadline_database\"\n",
      "2021-12-06 20:15:45,407 INFO sqlalchemy.engine.Engine [no key 0.00054s] ()\n",
      "2021-12-06 20:15:45,447 INFO sqlalchemy.engine.Engine COMMIT\n",
      "2021-12-06 20:15:45,453 INFO sqlalchemy.engine.Engine \n",
      "CREATE TABLE \"Deadline_database\" (\n",
      "\t\"index\" BIGINT, \n",
      "\t\"Country\" TEXT, \n",
      "\t\"Year\" BIGINT, \n",
      "\t\"Deaths_meningitis\" FLOAT, \n",
      "\t\"Deaths_lower_respiratory_infections\" FLOAT, \n",
      "\t\"Deaths_intestinal_infectious_diseases\" FLOAT, \n",
      "\t\"Deaths_protein_energy_malnutrition\" FLOAT, \n",
      "\t\"Terrorism\" FLOAT, \n",
      "\t\"Deaths_cardiovascular_diseases\" FLOAT, \n",
      "\t\"Deaths_alzheimer_disease_and_other_dementias\" FLOAT, \n",
      "\t\"Deaths_chronic_kidney_disease\" FLOAT, \n",
      "\t\"Deaths_chronic_respiratory_diseases\" FLOAT, \n",
      "\t\"Deaths_cirrhosis_and_other_chronic_liver_diseases\" FLOAT, \n",
      "\t\"Deaths_digestive_diseases\" FLOAT, \n",
      "\t\"Deaths_hepatitis\" FLOAT, \n",
      "\t\"Deaths_neoplasms\" FLOAT, \n",
      "\t\"Deaths_parkinson_disease\" FLOAT, \n",
      "\t\"Deaths_by_fire_and_heat\" FLOAT, \n",
      "\t\"Deaths_malaria\" FLOAT, \n",
      "\t\"Deaths_drowning\" FLOAT, \n",
      "\t\"Deaths_interpersonal_violence\" FLOAT, \n",
      "\t\"Deaths_aids\" FLOAT, \n",
      "\t\"Deaths_drug_use_disorders\" FLOAT, \n",
      "\t\"Deaths_tuberculosis\" FLOAT, \n",
      "\t\"Deaths_road_injuries\" FLOAT, \n",
      "\t\"Deaths_maternal_disorders\" FLOAT, \n",
      "\t\"Deaths_neonatal_disorders\" FLOAT, \n",
      "\t\"Deaths_alcohol_use_disorders\" FLOAT, \n",
      "\t\"Deaths_exposure_to_forces_of_nature\" FLOAT, \n",
      "\t\"Deaths_diarrheal_diseases\" FLOAT, \n",
      "\t\"Deaths_environmental_heat_and_cold_exposure\" FLOAT, \n",
      "\t\"Deaths_nutritional_deficiencies\" FLOAT, \n",
      "\t\"Deaths_self_harm\" FLOAT, \n",
      "\t\"Deaths_conflict_and_terrorism\" FLOAT, \n",
      "\t\"Deaths_diabetes_mellitus\" FLOAT, \n",
      "\t\"Deaths_poisonings\" FLOAT, \n",
      "\t\"Average_total_years_of_schooling_for_adult_population\" FLOAT, \n",
      "\t\"Life_satisfaction\" FLOAT, \n",
      "\t\"Life_expectancy\" FLOAT, \n",
      "\t\"Life_expectancy_at_birth\" FLOAT, \n",
      "\t\"Share_of_population_below_poverty_line_2USD_per_day\" FLOAT, \n",
      "\t\"Total_life_expectancy_at_birth_in_years\" FLOAT, \n",
      "\t\"Total_population\" FLOAT, \n",
      "\t\"Human_development_index\" FLOAT, \n",
      "\t\"Mortality_rate_under_5_per_1000_live_births\" FLOAT, \n",
      "\t\"Suicidy_mortality_rate_per_100000_population\" FLOAT, \n",
      "\t\"Annual_CO2_emissions\" FLOAT\n",
      ")\n",
      "\n",
      "\n",
      "2021-12-06 20:15:45,454 INFO sqlalchemy.engine.Engine [no key 0.00099s] ()\n",
      "2021-12-06 20:15:45,460 INFO sqlalchemy.engine.Engine COMMIT\n",
      "2021-12-06 20:15:45,461 INFO sqlalchemy.engine.Engine CREATE INDEX \"ix_Deadline_database_index\" ON \"Deadline_database\" (\"index\")\n",
      "2021-12-06 20:15:45,462 INFO sqlalchemy.engine.Engine [no key 0.00124s] ()\n",
      "2021-12-06 20:15:45,468 INFO sqlalchemy.engine.Engine COMMIT\n",
      "2021-12-06 20:15:45,566 INFO sqlalchemy.engine.Engine BEGIN (implicit)\n",
      "2021-12-06 20:15:46,293 INFO sqlalchemy.engine.Engine INSERT INTO \"Deadline_database\" (\"index\", \"Country\", \"Year\", \"Deaths_meningitis\", \"Deaths_lower_respiratory_infections\", \"Deaths_intestinal_infectious_diseases\", \"Deaths_protein_energy_malnutrition\", \"Terrorism\", \"Deaths_cardiovascular_diseases\", \"Deaths_alzheimer_disease_and_other_dementias\", \"Deaths_chronic_kidney_disease\", \"Deaths_chronic_respiratory_diseases\", \"Deaths_cirrhosis_and_other_chronic_liver_diseases\", \"Deaths_digestive_diseases\", \"Deaths_hepatitis\", \"Deaths_neoplasms\", \"Deaths_parkinson_disease\", \"Deaths_by_fire_and_heat\", \"Deaths_malaria\", \"Deaths_drowning\", \"Deaths_interpersonal_violence\", \"Deaths_aids\", \"Deaths_drug_use_disorders\", \"Deaths_tuberculosis\", \"Deaths_road_injuries\", \"Deaths_maternal_disorders\", \"Deaths_neonatal_disorders\", \"Deaths_alcohol_use_disorders\", \"Deaths_exposure_to_forces_of_nature\", \"Deaths_diarrheal_diseases\", \"Deaths_environmental_heat_and_cold_exposure\", \"Deaths_nutritional_deficiencies\", \"Deaths_self_harm\", \"Deaths_conflict_and_terrorism\", \"Deaths_diabetes_mellitus\", \"Deaths_poisonings\", \"Average_total_years_of_schooling_for_adult_population\", \"Life_satisfaction\", \"Life_expectancy\", \"Life_expectancy_at_birth\", \"Share_of_population_below_poverty_line_2USD_per_day\", \"Total_life_expectancy_at_birth_in_years\", \"Total_population\", \"Human_development_index\", \"Mortality_rate_under_5_per_1000_live_births\", \"Suicidy_mortality_rate_per_100000_population\", \"Annual_CO2_emissions\") VALUES (?, ?, ?, ?, ?, ?, ?, ?, ?, ?, ?, ?, ?, ?, ?, ?, ?, ?, ?, ?, ?, ?, ?, ?, ?, ?, ?, ?, ?, ?, ?, ?, ?, ?, ?, ?, ?, ?, ?, ?, ?, ?, ?, ?, ?, ?, ?)\n",
      "2021-12-06 20:15:46,293 INFO sqlalchemy.engine.Engine [generated in 0.61410s] ((0, 'Afghanistan', 1990, 6469.977091391838, 22836.912346495286, 295.382206545, 1607.7037972460018, 12.0, 46498.08502420735, 1959.215372700566, 3155.356339772485, 5954.958581567895, 1453.0449768544515, 3698.889864363153, 793.6702565454274, 10061.873743480066, 324.828944681958, 311.7760817779927, 463.6124227489294, 1508.416465350034, 1279.9459846492337, 32.09812855864964, 78.25419155780165, 4332.690583447481, 4575.180311310141, 2283.021996024863, 18075.800289934286, 75.59522143482285, 0.0, 8817.260207713856, 226.78940339005945, 1667.386134269348, 740.4484995259625, 1489.999289636355, 3361.736409244922, 170.74228556576642, 1.49, None, 50.331, 50.331, 0.0, 50.331, 12412311.0, None, 17.77, None, 2603238.0), (1, 'Afghanistan', 1991, 6347.158763885498, 22325.633931343706, 303.866598157, 1558.132316060137, 68.0, 46967.36103687579, 1987.812877674717, 3124.082630687818, 6023.386322522869, 1468.8607454474322, 3743.18733606324, 788.5362796306497, 10171.33351148766, 328.4522998476141, 311.50053834646866, 487.1916144660906, 1473.2250212232668, 1524.6415925622289, 37.52415847693495, 81.28458624633708, 4288.640463629124, 4762.068566837203, 2337.4144041582485, 18349.129971713483, 76.10964144630853, 1349.9994342643345, 8588.4637940012, 164.83041736600987, 1616.7562332903042, 762.2451791320304, 3370.00015311082, 3362.470216515875, 172.03265714174486, 1.6, None, 50.999, 50.999, 0.0, 50.999, 13299016.0, None, 17.169999999999998, None, 2427366.0), (2, 'Afghanistan', 1992, 6659.741428179754, 23205.28074996548, 317.75012124, 1617.721576346921, 49.0, 48355.558514868266, 2025.102326401876, 3192.27842814556, 6217.24515672989, 1524.528468033698, 3894.366133430463, 823.9158666226072, 10592.36758116952, 334.707212411907, 338.61426336498823, 521.714215640852, 1537.8133318316343, 1684.8088565877867, 50.67055891684227, 91.01019737726332, 4475.257541530177, 5531.136933145996, 2781.91801686582, 19982.149564567484, 81.13830975993838, 614.0000827821068, 8924.932419549954, 92.52218326332718, 1678.5576245851294, 856.9129271167018, 4343.997794507218, 3445.705567137357, 190.40411104645125, 1.6, None, 51.641, 51.641, 0.0, 51.641, 14485543.0, None, 16.59, None, 1379462.0), (3, 'Afghanistan', 1993, 8068.38626301191, 28229.715397014643, 333.97833108, 1931.8085529867608, 0.0, 50072.56389949511, 2064.827902581096, 3343.974013527555, 6468.245470066558, 1598.643747020821, 4136.479099900144, 892.6425861944767, 11126.644646057604, 341.810022604012, 382.4013167966859, 675.6576958296464, 1714.8158746665151, 1906.959924956235, 58.43304929835086, 103.48199138046311, 4909.050324771718, 6613.963509698346, 3336.796608444557, 27291.23529166365, 87.51474446348384, 109.99999761979969, 11976.501318899846, 104.1674607877061, 2001.122436428658, 975.6037717447408, 4097.000207200164, 3563.236367305097, 217.62261397092976, 1.7, None, 52.256, 52.256, 0.0, 52.256, 15816601.0, None, 16.040000000000003, None, 1333055.0), (4, 'Afghanistan', 1994, 9432.845126561846, 32652.297629937133, 348.419085056, 2351.629205625238, 22.0, 51416.81544241816, 2101.0206298654944, 3480.2997098648866, 6678.49584992994, 1649.9774111621832, 4318.692618142309, 950.3795526539946, 11477.937574856558, 348.2233214591862, 417.7179794704918, 782.4453392093004, 1949.6994994300865, 2229.924043171155, 65.53117640609236, 111.29639740319293, 5352.634058202548, 7341.204564525924, 3558.5977148658085, 29862.6808741679, 90.46414938624514, 160.00000296603002, 13296.448475059007, 112.07265226048835, 2434.014268003856, 1028.742412150765, 8959.000460821573, 3639.707846910156, 236.24057349185665, 1.8, None, 52.842, 52.842, 0.0, 52.842, 17075728.0, None, 15.52, None, 1281602.0), (5, 'Afghanistan', 1995, 10122.772832326318, 34483.55189514679, 363.583912875, 2507.1151877903926, 5.0, 52072.36867126601, 2125.77855438, 3523.1498099366854, 6805.61822618712, 1690.7170945665148, 4436.973375454463, 982.0041536394358, 11711.27393587748, 352.1598253459955, 447.36221676245697, 815.0452029249604, 2187.500353950448, 2325.997879172804, 72.73540382456196, 117.9349664164136, 5536.274369307643, 7936.178185181291, 3706.526833025041, 30758.544712492687, 91.8193301858817, 380.9999851527412, 14767.431174698728, 118.01358678213484, 2595.907455078785, 1065.582016361108, 5508.000167693573, 3665.833847398064, 249.75744035335129, 1.9, None, 53.398, 53.398, 0.0, 53.398, 18110662.0, None, 15.03, None, 1230463.0), (6, 'Afghanistan', 1996, 10317.320086584848, 34845.2551331504, 364.559304431, 2468.6158197202585, 31.0, 52795.71815799189, 2146.7778284076207, 3525.948414300033, 6888.664022574522, 1716.6455656017354, 4510.381671751872, 1013.7370214751526, 11898.875426932313, 355.3648446816753, 458.0024875370393, 886.4137689670523, 2245.104140393584, 2626.043189375672, 78.53365074293934, 124.7179237074088, 5560.655853070678, 8270.543842860316, 3846.393973495743, 31818.950694564588, 93.43661633677068, 69.99999920599242, 14153.892087452568, 122.19328210706404, 2557.8508321763265, 1099.0038062693534, 3254.999587411484, 3735.9745934695634, 255.8475633130356, 1.9, None, 53.924, 53.924, 0.0, 53.924, 18853444.0, None, 14.56, None, 1164920.0), (7, 'Afghanistan', 1997, 10501.42313972871, 35061.72652330397, 365.918124832, 2451.122257346609, 4.0, 53512.78437386359, 2168.375734788226, 3536.462922655311, 6972.195771599016, 1746.9184123526836, 4591.336368102721, 1049.423509337253, 12109.522389548132, 358.7333945175296, 469.22761332998033, 894.7286254439781, 2308.220447142872, 2394.4412199017333, 83.75294412681974, 132.22390911945843, 5605.857164810424, 8349.815929777416, 3989.5008684636905, 32260.115611100417, 95.33510775312575, 174.9999845420124, 14351.353886029416, 127.04432521377232, 2541.9273678290183, 1133.0200087157934, 6722.9968778120565, 3807.8691793781136, 262.02724340762046, 2.0, None, 54.424, 54.424, 0.0, 54.424, 19357126.0, None, 14.12, None, 1084127.0)  ... displaying 10 of 37791 total bound parameter sets ...  (37789, 'World', 1898, None, None, None, None, None, None, None, None, None, None, None, None, None, None, None, None, None, None, None, None, None, None, None, None, None, None, None, None, None, None, None, None, None, None, None, None, None, None, None, None, None, None, None, 1694277167.0), (37790, 'World', 1899, None, None, None, None, None, None, None, None, None, None, None, None, None, None, None, None, None, None, None, None, None, None, None, None, None, None, None, None, None, None, None, None, None, None, None, None, None, None, None, None, None, None, None, 1850905966.0))\n",
      "2021-12-06 20:15:46,797 INFO sqlalchemy.engine.Engine COMMIT\n",
      "2021-12-06 20:15:46,834 INFO sqlalchemy.engine.Engine SELECT name FROM sqlite_master WHERE type='table' ORDER BY name\n",
      "2021-12-06 20:15:46,835 INFO sqlalchemy.engine.Engine [raw sql] ()\n"
     ]
    }
   ],
   "source": [
    "from sqlalchemy import create_engine\n",
    "\n",
    "engine = create_engine(\"sqlite:///deadline_database_nonans_geo.db\", echo=True)\n",
    "sqlite_connection = engine.connect()\n",
    "\n",
    "sqlite_table = \"Deadline_database\"\n",
    "\n",
    "df.to_sql(sqlite_table, sqlite_connection, if_exists=\"replace\")\n",
    "\n",
    "# close connection to DB\n",
    "sqlite_connection.close()"
   ]
  },
  {
   "cell_type": "code",
   "execution_count": null,
   "id": "88d1ce29-3d72-42c3-9c54-78db4d0007ca",
   "metadata": {},
   "outputs": [],
   "source": []
  }
 ],
 "metadata": {
  "kernelspec": {
   "display_name": "Python 3 (ipykernel)",
   "language": "python",
   "name": "python3"
  },
  "language_info": {
   "codemirror_mode": {
    "name": "ipython",
    "version": 3
   },
   "file_extension": ".py",
   "mimetype": "text/x-python",
   "name": "python",
   "nbconvert_exporter": "python",
   "pygments_lexer": "ipython3",
   "version": "3.8.10"
  }
 },
 "nbformat": 4,
 "nbformat_minor": 5
}
